{
 "cells": [
  {
   "cell_type": "markdown",
   "metadata": {},
   "source": [
    "# Stroke Prediction"
   ]
  },
  {
   "cell_type": "markdown",
   "metadata": {},
   "source": [
    "## Libraries"
   ]
  },
  {
   "cell_type": "code",
   "execution_count": 65,
   "metadata": {},
   "outputs": [],
   "source": [
    "import pandas as pd\n",
    "import numpy as np\n",
    "import seaborn as sns\n",
    "import matplotlib.pyplot as plt\n",
    "from imblearn.over_sampling import SMOTE"
   ]
  },
  {
   "cell_type": "markdown",
   "metadata": {},
   "source": [
    "## Dataset"
   ]
  },
  {
   "cell_type": "code",
   "execution_count": 66,
   "metadata": {},
   "outputs": [],
   "source": [
    "df_strokes=pd.read_csv('stroke-data.csv')"
   ]
  },
  {
   "cell_type": "code",
   "execution_count": 67,
   "metadata": {},
   "outputs": [
    {
     "data": {
      "text/html": [
       "<div>\n",
       "<style scoped>\n",
       "    .dataframe tbody tr th:only-of-type {\n",
       "        vertical-align: middle;\n",
       "    }\n",
       "\n",
       "    .dataframe tbody tr th {\n",
       "        vertical-align: top;\n",
       "    }\n",
       "\n",
       "    .dataframe thead th {\n",
       "        text-align: right;\n",
       "    }\n",
       "</style>\n",
       "<table border=\"1\" class=\"dataframe\">\n",
       "  <thead>\n",
       "    <tr style=\"text-align: right;\">\n",
       "      <th></th>\n",
       "      <th>id</th>\n",
       "      <th>gender</th>\n",
       "      <th>age</th>\n",
       "      <th>hypertension</th>\n",
       "      <th>heart_disease</th>\n",
       "      <th>ever_married</th>\n",
       "      <th>work_type</th>\n",
       "      <th>Residence_type</th>\n",
       "      <th>avg_glucose_level</th>\n",
       "      <th>bmi</th>\n",
       "      <th>smoking_status</th>\n",
       "      <th>stroke</th>\n",
       "    </tr>\n",
       "  </thead>\n",
       "  <tbody>\n",
       "    <tr>\n",
       "      <th>0</th>\n",
       "      <td>9046</td>\n",
       "      <td>Male</td>\n",
       "      <td>67.0</td>\n",
       "      <td>0</td>\n",
       "      <td>1</td>\n",
       "      <td>Yes</td>\n",
       "      <td>Private</td>\n",
       "      <td>Urban</td>\n",
       "      <td>228.69</td>\n",
       "      <td>36.6</td>\n",
       "      <td>formerly smoked</td>\n",
       "      <td>1</td>\n",
       "    </tr>\n",
       "    <tr>\n",
       "      <th>1</th>\n",
       "      <td>51676</td>\n",
       "      <td>Female</td>\n",
       "      <td>61.0</td>\n",
       "      <td>0</td>\n",
       "      <td>0</td>\n",
       "      <td>Yes</td>\n",
       "      <td>Self-employed</td>\n",
       "      <td>Rural</td>\n",
       "      <td>202.21</td>\n",
       "      <td>NaN</td>\n",
       "      <td>never smoked</td>\n",
       "      <td>1</td>\n",
       "    </tr>\n",
       "    <tr>\n",
       "      <th>2</th>\n",
       "      <td>31112</td>\n",
       "      <td>Male</td>\n",
       "      <td>80.0</td>\n",
       "      <td>0</td>\n",
       "      <td>1</td>\n",
       "      <td>Yes</td>\n",
       "      <td>Private</td>\n",
       "      <td>Rural</td>\n",
       "      <td>105.92</td>\n",
       "      <td>32.5</td>\n",
       "      <td>never smoked</td>\n",
       "      <td>1</td>\n",
       "    </tr>\n",
       "    <tr>\n",
       "      <th>3</th>\n",
       "      <td>60182</td>\n",
       "      <td>Female</td>\n",
       "      <td>49.0</td>\n",
       "      <td>0</td>\n",
       "      <td>0</td>\n",
       "      <td>Yes</td>\n",
       "      <td>Private</td>\n",
       "      <td>Urban</td>\n",
       "      <td>171.23</td>\n",
       "      <td>34.4</td>\n",
       "      <td>smokes</td>\n",
       "      <td>1</td>\n",
       "    </tr>\n",
       "    <tr>\n",
       "      <th>4</th>\n",
       "      <td>1665</td>\n",
       "      <td>Female</td>\n",
       "      <td>79.0</td>\n",
       "      <td>1</td>\n",
       "      <td>0</td>\n",
       "      <td>Yes</td>\n",
       "      <td>Self-employed</td>\n",
       "      <td>Rural</td>\n",
       "      <td>174.12</td>\n",
       "      <td>24.0</td>\n",
       "      <td>never smoked</td>\n",
       "      <td>1</td>\n",
       "    </tr>\n",
       "    <tr>\n",
       "      <th>5</th>\n",
       "      <td>56669</td>\n",
       "      <td>Male</td>\n",
       "      <td>81.0</td>\n",
       "      <td>0</td>\n",
       "      <td>0</td>\n",
       "      <td>Yes</td>\n",
       "      <td>Private</td>\n",
       "      <td>Urban</td>\n",
       "      <td>186.21</td>\n",
       "      <td>29.0</td>\n",
       "      <td>formerly smoked</td>\n",
       "      <td>1</td>\n",
       "    </tr>\n",
       "    <tr>\n",
       "      <th>6</th>\n",
       "      <td>53882</td>\n",
       "      <td>Male</td>\n",
       "      <td>74.0</td>\n",
       "      <td>1</td>\n",
       "      <td>1</td>\n",
       "      <td>Yes</td>\n",
       "      <td>Private</td>\n",
       "      <td>Rural</td>\n",
       "      <td>70.09</td>\n",
       "      <td>27.4</td>\n",
       "      <td>never smoked</td>\n",
       "      <td>1</td>\n",
       "    </tr>\n",
       "    <tr>\n",
       "      <th>7</th>\n",
       "      <td>10434</td>\n",
       "      <td>Female</td>\n",
       "      <td>69.0</td>\n",
       "      <td>0</td>\n",
       "      <td>0</td>\n",
       "      <td>No</td>\n",
       "      <td>Private</td>\n",
       "      <td>Urban</td>\n",
       "      <td>94.39</td>\n",
       "      <td>22.8</td>\n",
       "      <td>never smoked</td>\n",
       "      <td>1</td>\n",
       "    </tr>\n",
       "    <tr>\n",
       "      <th>8</th>\n",
       "      <td>27419</td>\n",
       "      <td>Female</td>\n",
       "      <td>59.0</td>\n",
       "      <td>0</td>\n",
       "      <td>0</td>\n",
       "      <td>Yes</td>\n",
       "      <td>Private</td>\n",
       "      <td>Rural</td>\n",
       "      <td>76.15</td>\n",
       "      <td>NaN</td>\n",
       "      <td>Unknown</td>\n",
       "      <td>1</td>\n",
       "    </tr>\n",
       "    <tr>\n",
       "      <th>9</th>\n",
       "      <td>60491</td>\n",
       "      <td>Female</td>\n",
       "      <td>78.0</td>\n",
       "      <td>0</td>\n",
       "      <td>0</td>\n",
       "      <td>Yes</td>\n",
       "      <td>Private</td>\n",
       "      <td>Urban</td>\n",
       "      <td>58.57</td>\n",
       "      <td>24.2</td>\n",
       "      <td>Unknown</td>\n",
       "      <td>1</td>\n",
       "    </tr>\n",
       "    <tr>\n",
       "      <th>10</th>\n",
       "      <td>12109</td>\n",
       "      <td>Female</td>\n",
       "      <td>81.0</td>\n",
       "      <td>1</td>\n",
       "      <td>0</td>\n",
       "      <td>Yes</td>\n",
       "      <td>Private</td>\n",
       "      <td>Rural</td>\n",
       "      <td>80.43</td>\n",
       "      <td>29.7</td>\n",
       "      <td>never smoked</td>\n",
       "      <td>1</td>\n",
       "    </tr>\n",
       "    <tr>\n",
       "      <th>11</th>\n",
       "      <td>12095</td>\n",
       "      <td>Female</td>\n",
       "      <td>61.0</td>\n",
       "      <td>0</td>\n",
       "      <td>1</td>\n",
       "      <td>Yes</td>\n",
       "      <td>Govt_job</td>\n",
       "      <td>Rural</td>\n",
       "      <td>120.46</td>\n",
       "      <td>36.8</td>\n",
       "      <td>smokes</td>\n",
       "      <td>1</td>\n",
       "    </tr>\n",
       "    <tr>\n",
       "      <th>12</th>\n",
       "      <td>12175</td>\n",
       "      <td>Female</td>\n",
       "      <td>54.0</td>\n",
       "      <td>0</td>\n",
       "      <td>0</td>\n",
       "      <td>Yes</td>\n",
       "      <td>Private</td>\n",
       "      <td>Urban</td>\n",
       "      <td>104.51</td>\n",
       "      <td>27.3</td>\n",
       "      <td>smokes</td>\n",
       "      <td>1</td>\n",
       "    </tr>\n",
       "    <tr>\n",
       "      <th>13</th>\n",
       "      <td>8213</td>\n",
       "      <td>Male</td>\n",
       "      <td>78.0</td>\n",
       "      <td>0</td>\n",
       "      <td>1</td>\n",
       "      <td>Yes</td>\n",
       "      <td>Private</td>\n",
       "      <td>Urban</td>\n",
       "      <td>219.84</td>\n",
       "      <td>NaN</td>\n",
       "      <td>Unknown</td>\n",
       "      <td>1</td>\n",
       "    </tr>\n",
       "    <tr>\n",
       "      <th>14</th>\n",
       "      <td>5317</td>\n",
       "      <td>Female</td>\n",
       "      <td>79.0</td>\n",
       "      <td>0</td>\n",
       "      <td>1</td>\n",
       "      <td>Yes</td>\n",
       "      <td>Private</td>\n",
       "      <td>Urban</td>\n",
       "      <td>214.09</td>\n",
       "      <td>28.2</td>\n",
       "      <td>never smoked</td>\n",
       "      <td>1</td>\n",
       "    </tr>\n",
       "    <tr>\n",
       "      <th>15</th>\n",
       "      <td>58202</td>\n",
       "      <td>Female</td>\n",
       "      <td>50.0</td>\n",
       "      <td>1</td>\n",
       "      <td>0</td>\n",
       "      <td>Yes</td>\n",
       "      <td>Self-employed</td>\n",
       "      <td>Rural</td>\n",
       "      <td>167.41</td>\n",
       "      <td>30.9</td>\n",
       "      <td>never smoked</td>\n",
       "      <td>1</td>\n",
       "    </tr>\n",
       "    <tr>\n",
       "      <th>16</th>\n",
       "      <td>56112</td>\n",
       "      <td>Male</td>\n",
       "      <td>64.0</td>\n",
       "      <td>0</td>\n",
       "      <td>1</td>\n",
       "      <td>Yes</td>\n",
       "      <td>Private</td>\n",
       "      <td>Urban</td>\n",
       "      <td>191.61</td>\n",
       "      <td>37.5</td>\n",
       "      <td>smokes</td>\n",
       "      <td>1</td>\n",
       "    </tr>\n",
       "    <tr>\n",
       "      <th>17</th>\n",
       "      <td>34120</td>\n",
       "      <td>Male</td>\n",
       "      <td>75.0</td>\n",
       "      <td>1</td>\n",
       "      <td>0</td>\n",
       "      <td>Yes</td>\n",
       "      <td>Private</td>\n",
       "      <td>Urban</td>\n",
       "      <td>221.29</td>\n",
       "      <td>25.8</td>\n",
       "      <td>smokes</td>\n",
       "      <td>1</td>\n",
       "    </tr>\n",
       "    <tr>\n",
       "      <th>18</th>\n",
       "      <td>27458</td>\n",
       "      <td>Female</td>\n",
       "      <td>60.0</td>\n",
       "      <td>0</td>\n",
       "      <td>0</td>\n",
       "      <td>No</td>\n",
       "      <td>Private</td>\n",
       "      <td>Urban</td>\n",
       "      <td>89.22</td>\n",
       "      <td>37.8</td>\n",
       "      <td>never smoked</td>\n",
       "      <td>1</td>\n",
       "    </tr>\n",
       "    <tr>\n",
       "      <th>19</th>\n",
       "      <td>25226</td>\n",
       "      <td>Male</td>\n",
       "      <td>57.0</td>\n",
       "      <td>0</td>\n",
       "      <td>1</td>\n",
       "      <td>No</td>\n",
       "      <td>Govt_job</td>\n",
       "      <td>Urban</td>\n",
       "      <td>217.08</td>\n",
       "      <td>NaN</td>\n",
       "      <td>Unknown</td>\n",
       "      <td>1</td>\n",
       "    </tr>\n",
       "  </tbody>\n",
       "</table>\n",
       "</div>"
      ],
      "text/plain": [
       "       id  gender   age  hypertension  heart_disease ever_married  \\\n",
       "0    9046    Male  67.0             0              1          Yes   \n",
       "1   51676  Female  61.0             0              0          Yes   \n",
       "2   31112    Male  80.0             0              1          Yes   \n",
       "3   60182  Female  49.0             0              0          Yes   \n",
       "4    1665  Female  79.0             1              0          Yes   \n",
       "5   56669    Male  81.0             0              0          Yes   \n",
       "6   53882    Male  74.0             1              1          Yes   \n",
       "7   10434  Female  69.0             0              0           No   \n",
       "8   27419  Female  59.0             0              0          Yes   \n",
       "9   60491  Female  78.0             0              0          Yes   \n",
       "10  12109  Female  81.0             1              0          Yes   \n",
       "11  12095  Female  61.0             0              1          Yes   \n",
       "12  12175  Female  54.0             0              0          Yes   \n",
       "13   8213    Male  78.0             0              1          Yes   \n",
       "14   5317  Female  79.0             0              1          Yes   \n",
       "15  58202  Female  50.0             1              0          Yes   \n",
       "16  56112    Male  64.0             0              1          Yes   \n",
       "17  34120    Male  75.0             1              0          Yes   \n",
       "18  27458  Female  60.0             0              0           No   \n",
       "19  25226    Male  57.0             0              1           No   \n",
       "\n",
       "        work_type Residence_type  avg_glucose_level   bmi   smoking_status  \\\n",
       "0         Private          Urban             228.69  36.6  formerly smoked   \n",
       "1   Self-employed          Rural             202.21   NaN     never smoked   \n",
       "2         Private          Rural             105.92  32.5     never smoked   \n",
       "3         Private          Urban             171.23  34.4           smokes   \n",
       "4   Self-employed          Rural             174.12  24.0     never smoked   \n",
       "5         Private          Urban             186.21  29.0  formerly smoked   \n",
       "6         Private          Rural              70.09  27.4     never smoked   \n",
       "7         Private          Urban              94.39  22.8     never smoked   \n",
       "8         Private          Rural              76.15   NaN          Unknown   \n",
       "9         Private          Urban              58.57  24.2          Unknown   \n",
       "10        Private          Rural              80.43  29.7     never smoked   \n",
       "11       Govt_job          Rural             120.46  36.8           smokes   \n",
       "12        Private          Urban             104.51  27.3           smokes   \n",
       "13        Private          Urban             219.84   NaN          Unknown   \n",
       "14        Private          Urban             214.09  28.2     never smoked   \n",
       "15  Self-employed          Rural             167.41  30.9     never smoked   \n",
       "16        Private          Urban             191.61  37.5           smokes   \n",
       "17        Private          Urban             221.29  25.8           smokes   \n",
       "18        Private          Urban              89.22  37.8     never smoked   \n",
       "19       Govt_job          Urban             217.08   NaN          Unknown   \n",
       "\n",
       "    stroke  \n",
       "0        1  \n",
       "1        1  \n",
       "2        1  \n",
       "3        1  \n",
       "4        1  \n",
       "5        1  \n",
       "6        1  \n",
       "7        1  \n",
       "8        1  \n",
       "9        1  \n",
       "10       1  \n",
       "11       1  \n",
       "12       1  \n",
       "13       1  \n",
       "14       1  \n",
       "15       1  \n",
       "16       1  \n",
       "17       1  \n",
       "18       1  \n",
       "19       1  "
      ]
     },
     "execution_count": 67,
     "metadata": {},
     "output_type": "execute_result"
    }
   ],
   "source": [
    "df_strokes.head(20) # first 5 rows"
   ]
  },
  {
   "cell_type": "markdown",
   "metadata": {},
   "source": [
    "## Rough summary of the data set"
   ]
  },
  {
   "cell_type": "code",
   "execution_count": 68,
   "metadata": {},
   "outputs": [],
   "source": [
    "strokes = df_strokes[df_strokes['stroke']==1]\n",
    "no_strokes = df_strokes[df_strokes['stroke']==0]\n",
    "strokePrecentage = (len(strokes)*100)/len(df_strokes)"
   ]
  },
  {
   "cell_type": "code",
   "execution_count": 69,
   "metadata": {},
   "outputs": [
    {
     "name": "stdout",
     "output_type": "stream",
     "text": [
      "No of patients who have got a stroke :  249\n",
      "No of patients who have not got a stroke :  4861\n",
      "Total Stroke percentage of the dataset :  4.87279843444227\n"
     ]
    }
   ],
   "source": [
    "print('No of patients who have got a stroke : ',len(strokes))\n",
    "print('No of patients who have not got a stroke : ',len(no_strokes))\n",
    "print('Total Stroke percentage of the dataset : ',strokePrecentage)"
   ]
  },
  {
   "cell_type": "markdown",
   "metadata": {},
   "source": [
    "# Data Exploration"
   ]
  },
  {
   "cell_type": "code",
   "execution_count": 70,
   "metadata": {},
   "outputs": [
    {
     "data": {
      "text/plain": [
       "Index(['gender', 'ever_married', 'work_type', 'Residence_type',\n",
       "       'smoking_status'],\n",
       "      dtype='object')"
      ]
     },
     "execution_count": 70,
     "metadata": {},
     "output_type": "execute_result"
    }
   ],
   "source": [
    "categorical_data = df_strokes.columns[df_strokes.dtypes == object]\n",
    "categorical_data"
   ]
  },
  {
   "cell_type": "code",
   "execution_count": 71,
   "metadata": {
    "scrolled": false
   },
   "outputs": [
    {
     "data": {
      "image/png": "[encoded data removed]",
      "text/plain": [
       "<Figure size 432x288 with 1 Axes>"
      ]
     },
     "metadata": {
      "needs_background": "light"
     },
     "output_type": "display_data"
    },
    {
     "data": {
      "image/png": "[encoded data removed]",
      "text/plain": [
       "<Figure size 432x288 with 1 Axes>"
      ]
     },
     "metadata": {
      "needs_background": "light"
     },
     "output_type": "display_data"
    },
    {
     "data": {
      "image/png": "[encoded data removed]",
      "text/plain": [
       "<Figure size 432x288 with 1 Axes>"
      ]
     },
     "metadata": {
      "needs_background": "light"
     },
     "output_type": "display_data"
    },
    {
     "data": {
      "image/png": "[encoded data removed]",
      "text/plain": [
       "<Figure size 432x288 with 1 Axes>"
      ]
     },
     "metadata": {
      "needs_background": "light"
     },
     "output_type": "display_data"
    },
    {
     "data": {
      "image/png": "[encoded data removed]",
      "text/plain": [
       "<Figure size 432x288 with 1 Axes>"
      ]
     },
     "metadata": {
      "needs_background": "light"
     },
     "output_type": "display_data"
    }
   ],
   "source": [
    "dataset =df_strokes.copy()\n",
    "\n",
    "for col in categorical_data:\n",
    "    \n",
    "    plt.title(col, fontsize=16, fontweight=\"bold\")\n",
    "    sns.countplot(x=col, data=dataset)\n",
    "    plt.show()\n"
   ]
  },
  {
   "cell_type": "code",
   "execution_count": 72,
   "metadata": {},
   "outputs": [
    {
     "data": {
      "text/plain": [
       "Index(['id', 'age', 'hypertension', 'heart_disease', 'avg_glucose_level',\n",
       "       'bmi', 'stroke'],\n",
       "      dtype='object')"
      ]
     },
     "execution_count": 72,
     "metadata": {},
     "output_type": "execute_result"
    }
   ],
   "source": [
    "numerical_data = df_strokes.columns[df_strokes.dtypes != object]\n",
    "numerical_data"
   ]
  },
  {
   "cell_type": "code",
   "execution_count": 73,
   "metadata": {
    "scrolled": false
   },
   "outputs": [
    {
     "data": {
      "image/png": "[encoded data removed]",
      "text/plain": [
       "<Figure size 432x288 with 1 Axes>"
      ]
     },
     "metadata": {
      "needs_background": "light"
     },
     "output_type": "display_data"
    },
    {
     "data": {
      "image/png": "[encoded data removed]",
      "text/plain": [
       "<Figure size 432x288 with 1 Axes>"
      ]
     },
     "metadata": {
      "needs_background": "light"
     },
     "output_type": "display_data"
    },
    {
     "data": {
      "image/png": "[encoded data removed]",
      "text/plain": [
       "<Figure size 432x288 with 1 Axes>"
      ]
     },
     "metadata": {
      "needs_background": "light"
     },
     "output_type": "display_data"
    },
    {
     "data": {
      "image/png": "[encoded data removed]",
      "text/plain": [
       "<Figure size 432x288 with 1 Axes>"
      ]
     },
     "metadata": {
      "needs_background": "light"
     },
     "output_type": "display_data"
    },
    {
     "data": {
      "image/png": "[encoded data removed]",
      "text/plain": [
       "<Figure size 432x288 with 1 Axes>"
      ]
     },
     "metadata": {
      "needs_background": "light"
     },
     "output_type": "display_data"
    },
    {
     "data": {
      "image/png": "[encoded data removed]",
      "text/plain": [
       "<Figure size 432x288 with 1 Axes>"
      ]
     },
     "metadata": {
      "needs_background": "light"
     },
     "output_type": "display_data"
    },
    {
     "data": {
      "image/png": "[encoded data removed]",
      "text/plain": [
       "<Figure size 432x288 with 1 Axes>"
      ]
     },
     "metadata": {
      "needs_background": "light"
     },
     "output_type": "display_data"
    }
   ],
   "source": [
    "dataset =df_strokes.copy()\n",
    "\n",
    "for col in numerical_data:\n",
    "    \n",
    "    plt.title(col, fontsize=16, fontweight=\"bold\")\n",
    "    sns.histplot(x=col, data=dataset)\n",
    "    plt.show()"
   ]
  },
  {
   "cell_type": "markdown",
   "metadata": {},
   "source": [
    "## Data Cleaning"
   ]
  },
  {
   "cell_type": "markdown",
   "metadata": {},
   "source": [
    "### Find missing values using heat map"
   ]
  },
  {
   "cell_type": "code",
   "execution_count": 74,
   "metadata": {},
   "outputs": [
    {
     "data": {
      "text/plain": [
       "<AxesSubplot:>"
      ]
     },
     "execution_count": 74,
     "metadata": {},
     "output_type": "execute_result"
    },
    {
     "data": {
      "image/png": "[encoded data removed]",
      "text/plain": [
       "<Figure size 432x288 with 1 Axes>"
      ]
     },
     "metadata": {
      "needs_background": "light"
     },
     "output_type": "display_data"
    }
   ],
   "source": [
    "sns.heatmap(df_strokes.isnull(),yticklabels=False,cbar=False,cmap='Blues')"
   ]
  },
  {
   "cell_type": "markdown",
   "metadata": {},
   "source": [
    "### working with missing values"
   ]
  },
  {
   "cell_type": "code",
   "execution_count": 75,
   "metadata": {},
   "outputs": [
    {
     "name": "stdout",
     "output_type": "stream",
     "text": [
      "gender\n",
      "Female    27.8\n",
      "Male      28.4\n",
      "Other     22.4\n",
      "Name: bmi, dtype: float64\n"
     ]
    },
    {
     "data": {
      "image/png": "[encoded data removed]",
      "text/plain": [
       "<Figure size 1080x720 with 1 Axes>"
      ]
     },
     "metadata": {
      "needs_background": "light"
     },
     "output_type": "display_data"
    }
   ],
   "source": [
    "plt.figure(figsize=(15,10))\n",
    "box_plot=sns.boxplot(x='gender',y='bmi',data=df_strokes)\n",
    "\n",
    "medians = df_strokes.groupby(['gender'])['bmi'].median()\n",
    "print(medians)\n",
    "for xtick in box_plot.get_xticks():\n",
    "    box_plot.text(xtick,medians[xtick],medians[xtick], \n",
    "            horizontalalignment='center',size='medium',color='w',weight='semibold')"
   ]
  },
  {
   "cell_type": "markdown",
   "metadata": {},
   "source": [
    "### populate null values using the median of bmi"
   ]
  },
  {
   "cell_type": "code",
   "execution_count": 76,
   "metadata": {},
   "outputs": [],
   "source": [
    "def FillNullBmi(data):\n",
    "    bmi=data[0]\n",
    "    gender=data[1]\n",
    "    \n",
    "    if pd.isnull(bmi):\n",
    "        if(gender=='Male'):\n",
    "            return 27.8\n",
    "        elif(gender=='Female'):\n",
    "            return 28.4\n",
    "        else:\n",
    "            return 22.4\n",
    "    else:\n",
    "        return bmi\n",
    "            \n",
    "    "
   ]
  },
  {
   "cell_type": "code",
   "execution_count": 77,
   "metadata": {},
   "outputs": [],
   "source": [
    "df_strokes['bmi']=df_strokes[['bmi','gender']].apply(FillNullBmi,axis=1)"
   ]
  },
  {
   "cell_type": "code",
   "execution_count": 78,
   "metadata": {},
   "outputs": [
    {
     "data": {
      "text/plain": [
       "<AxesSubplot:>"
      ]
     },
     "execution_count": 78,
     "metadata": {},
     "output_type": "execute_result"
    },
    {
     "data": {
      "image/png": "[encoded data removed]",
      "text/plain": [
       "<Figure size 432x288 with 1 Axes>"
      ]
     },
     "metadata": {
      "needs_background": "light"
     },
     "output_type": "display_data"
    }
   ],
   "source": [
    "sns.heatmap(df_strokes.isnull(),yticklabels=False,cbar=False,cmap='Blues')"
   ]
  },
  {
   "cell_type": "code",
   "execution_count": null,
   "metadata": {},
   "outputs": [],
   "source": []
  },
  {
   "cell_type": "markdown",
   "metadata": {},
   "source": [
    "## maping columns with string values into binary columns"
   ]
  },
  {
   "cell_type": "code",
   "execution_count": 79,
   "metadata": {},
   "outputs": [
    {
     "data": {
      "text/html": [
       "<div>\n",
       "<style scoped>\n",
       "    .dataframe tbody tr th:only-of-type {\n",
       "        vertical-align: middle;\n",
       "    }\n",
       "\n",
       "    .dataframe tbody tr th {\n",
       "        vertical-align: top;\n",
       "    }\n",
       "\n",
       "    .dataframe thead th {\n",
       "        text-align: right;\n",
       "    }\n",
       "</style>\n",
       "<table border=\"1\" class=\"dataframe\">\n",
       "  <thead>\n",
       "    <tr style=\"text-align: right;\">\n",
       "      <th></th>\n",
       "      <th>id</th>\n",
       "      <th>age</th>\n",
       "      <th>hypertension</th>\n",
       "      <th>heart_disease</th>\n",
       "      <th>ever_married</th>\n",
       "      <th>work_type</th>\n",
       "      <th>Residence_type</th>\n",
       "      <th>avg_glucose_level</th>\n",
       "      <th>bmi</th>\n",
       "      <th>smoking_status</th>\n",
       "      <th>stroke</th>\n",
       "      <th>Male</th>\n",
       "    </tr>\n",
       "  </thead>\n",
       "  <tbody>\n",
       "    <tr>\n",
       "      <th>0</th>\n",
       "      <td>9046</td>\n",
       "      <td>67.0</td>\n",
       "      <td>0</td>\n",
       "      <td>1</td>\n",
       "      <td>Yes</td>\n",
       "      <td>Private</td>\n",
       "      <td>Urban</td>\n",
       "      <td>228.69</td>\n",
       "      <td>36.6</td>\n",
       "      <td>formerly smoked</td>\n",
       "      <td>1</td>\n",
       "      <td>1</td>\n",
       "    </tr>\n",
       "    <tr>\n",
       "      <th>1</th>\n",
       "      <td>51676</td>\n",
       "      <td>61.0</td>\n",
       "      <td>0</td>\n",
       "      <td>0</td>\n",
       "      <td>Yes</td>\n",
       "      <td>Self-employed</td>\n",
       "      <td>Rural</td>\n",
       "      <td>202.21</td>\n",
       "      <td>28.4</td>\n",
       "      <td>never smoked</td>\n",
       "      <td>1</td>\n",
       "      <td>0</td>\n",
       "    </tr>\n",
       "    <tr>\n",
       "      <th>2</th>\n",
       "      <td>31112</td>\n",
       "      <td>80.0</td>\n",
       "      <td>0</td>\n",
       "      <td>1</td>\n",
       "      <td>Yes</td>\n",
       "      <td>Private</td>\n",
       "      <td>Rural</td>\n",
       "      <td>105.92</td>\n",
       "      <td>32.5</td>\n",
       "      <td>never smoked</td>\n",
       "      <td>1</td>\n",
       "      <td>1</td>\n",
       "    </tr>\n",
       "    <tr>\n",
       "      <th>3</th>\n",
       "      <td>60182</td>\n",
       "      <td>49.0</td>\n",
       "      <td>0</td>\n",
       "      <td>0</td>\n",
       "      <td>Yes</td>\n",
       "      <td>Private</td>\n",
       "      <td>Urban</td>\n",
       "      <td>171.23</td>\n",
       "      <td>34.4</td>\n",
       "      <td>smokes</td>\n",
       "      <td>1</td>\n",
       "      <td>0</td>\n",
       "    </tr>\n",
       "    <tr>\n",
       "      <th>4</th>\n",
       "      <td>1665</td>\n",
       "      <td>79.0</td>\n",
       "      <td>1</td>\n",
       "      <td>0</td>\n",
       "      <td>Yes</td>\n",
       "      <td>Self-employed</td>\n",
       "      <td>Rural</td>\n",
       "      <td>174.12</td>\n",
       "      <td>24.0</td>\n",
       "      <td>never smoked</td>\n",
       "      <td>1</td>\n",
       "      <td>0</td>\n",
       "    </tr>\n",
       "    <tr>\n",
       "      <th>...</th>\n",
       "      <td>...</td>\n",
       "      <td>...</td>\n",
       "      <td>...</td>\n",
       "      <td>...</td>\n",
       "      <td>...</td>\n",
       "      <td>...</td>\n",
       "      <td>...</td>\n",
       "      <td>...</td>\n",
       "      <td>...</td>\n",
       "      <td>...</td>\n",
       "      <td>...</td>\n",
       "      <td>...</td>\n",
       "    </tr>\n",
       "    <tr>\n",
       "      <th>5105</th>\n",
       "      <td>18234</td>\n",
       "      <td>80.0</td>\n",
       "      <td>1</td>\n",
       "      <td>0</td>\n",
       "      <td>Yes</td>\n",
       "      <td>Private</td>\n",
       "      <td>Urban</td>\n",
       "      <td>83.75</td>\n",
       "      <td>28.4</td>\n",
       "      <td>never smoked</td>\n",
       "      <td>0</td>\n",
       "      <td>0</td>\n",
       "    </tr>\n",
       "    <tr>\n",
       "      <th>5106</th>\n",
       "      <td>44873</td>\n",
       "      <td>81.0</td>\n",
       "      <td>0</td>\n",
       "      <td>0</td>\n",
       "      <td>Yes</td>\n",
       "      <td>Self-employed</td>\n",
       "      <td>Urban</td>\n",
       "      <td>125.20</td>\n",
       "      <td>40.0</td>\n",
       "      <td>never smoked</td>\n",
       "      <td>0</td>\n",
       "      <td>0</td>\n",
       "    </tr>\n",
       "    <tr>\n",
       "      <th>5107</th>\n",
       "      <td>19723</td>\n",
       "      <td>35.0</td>\n",
       "      <td>0</td>\n",
       "      <td>0</td>\n",
       "      <td>Yes</td>\n",
       "      <td>Self-employed</td>\n",
       "      <td>Rural</td>\n",
       "      <td>82.99</td>\n",
       "      <td>30.6</td>\n",
       "      <td>never smoked</td>\n",
       "      <td>0</td>\n",
       "      <td>0</td>\n",
       "    </tr>\n",
       "    <tr>\n",
       "      <th>5108</th>\n",
       "      <td>37544</td>\n",
       "      <td>51.0</td>\n",
       "      <td>0</td>\n",
       "      <td>0</td>\n",
       "      <td>Yes</td>\n",
       "      <td>Private</td>\n",
       "      <td>Rural</td>\n",
       "      <td>166.29</td>\n",
       "      <td>25.6</td>\n",
       "      <td>formerly smoked</td>\n",
       "      <td>0</td>\n",
       "      <td>1</td>\n",
       "    </tr>\n",
       "    <tr>\n",
       "      <th>5109</th>\n",
       "      <td>44679</td>\n",
       "      <td>44.0</td>\n",
       "      <td>0</td>\n",
       "      <td>0</td>\n",
       "      <td>Yes</td>\n",
       "      <td>Govt_job</td>\n",
       "      <td>Urban</td>\n",
       "      <td>85.28</td>\n",
       "      <td>26.2</td>\n",
       "      <td>Unknown</td>\n",
       "      <td>0</td>\n",
       "      <td>0</td>\n",
       "    </tr>\n",
       "  </tbody>\n",
       "</table>\n",
       "<p>5109 rows × 12 columns</p>\n",
       "</div>"
      ],
      "text/plain": [
       "         id   age  hypertension  heart_disease ever_married      work_type  \\\n",
       "0      9046  67.0             0              1          Yes        Private   \n",
       "1     51676  61.0             0              0          Yes  Self-employed   \n",
       "2     31112  80.0             0              1          Yes        Private   \n",
       "3     60182  49.0             0              0          Yes        Private   \n",
       "4      1665  79.0             1              0          Yes  Self-employed   \n",
       "...     ...   ...           ...            ...          ...            ...   \n",
       "5105  18234  80.0             1              0          Yes        Private   \n",
       "5106  44873  81.0             0              0          Yes  Self-employed   \n",
       "5107  19723  35.0             0              0          Yes  Self-employed   \n",
       "5108  37544  51.0             0              0          Yes        Private   \n",
       "5109  44679  44.0             0              0          Yes       Govt_job   \n",
       "\n",
       "     Residence_type  avg_glucose_level   bmi   smoking_status  stroke  Male  \n",
       "0             Urban             228.69  36.6  formerly smoked       1     1  \n",
       "1             Rural             202.21  28.4     never smoked       1     0  \n",
       "2             Rural             105.92  32.5     never smoked       1     1  \n",
       "3             Urban             171.23  34.4           smokes       1     0  \n",
       "4             Rural             174.12  24.0     never smoked       1     0  \n",
       "...             ...                ...   ...              ...     ...   ...  \n",
       "5105          Urban              83.75  28.4     never smoked       0     0  \n",
       "5106          Urban             125.20  40.0     never smoked       0     0  \n",
       "5107          Rural              82.99  30.6     never smoked       0     0  \n",
       "5108          Rural             166.29  25.6  formerly smoked       0     1  \n",
       "5109          Urban              85.28  26.2          Unknown       0     0  \n",
       "\n",
       "[5109 rows x 12 columns]"
      ]
     },
     "execution_count": 79,
     "metadata": {},
     "output_type": "execute_result"
    }
   ],
   "source": [
    "# replace gender (male,female) labels using dummies\n",
    "# therefore we need to drop the row which is labeled as 'other'(1)\n",
    "df_strokes = df_strokes.loc[df_strokes[\"gender\"] != \"Other\"]\n",
    "male=pd.get_dummies(df_strokes['gender'],drop_first=True)\n",
    "# replace the original gender column with the newly created male column\n",
    "df_strokes.drop(['gender'],axis=1,inplace=True) # drop the gender col\n",
    "df_strokes=pd.concat([df_strokes,male],axis=1) # concat the male col\n",
    "df_strokes"
   ]
  },
  {
   "cell_type": "code",
   "execution_count": 80,
   "metadata": {},
   "outputs": [
    {
     "data": {
      "text/html": [
       "<div>\n",
       "<style scoped>\n",
       "    .dataframe tbody tr th:only-of-type {\n",
       "        vertical-align: middle;\n",
       "    }\n",
       "\n",
       "    .dataframe tbody tr th {\n",
       "        vertical-align: top;\n",
       "    }\n",
       "\n",
       "    .dataframe thead th {\n",
       "        text-align: right;\n",
       "    }\n",
       "</style>\n",
       "<table border=\"1\" class=\"dataframe\">\n",
       "  <thead>\n",
       "    <tr style=\"text-align: right;\">\n",
       "      <th></th>\n",
       "      <th>id</th>\n",
       "      <th>age</th>\n",
       "      <th>hypertension</th>\n",
       "      <th>heart_disease</th>\n",
       "      <th>work_type</th>\n",
       "      <th>avg_glucose_level</th>\n",
       "      <th>bmi</th>\n",
       "      <th>smoking_status</th>\n",
       "      <th>stroke</th>\n",
       "      <th>Male</th>\n",
       "      <th>Married_Lbl</th>\n",
       "      <th>Residence_Lbl</th>\n",
       "    </tr>\n",
       "  </thead>\n",
       "  <tbody>\n",
       "    <tr>\n",
       "      <th>0</th>\n",
       "      <td>9046</td>\n",
       "      <td>67.0</td>\n",
       "      <td>0</td>\n",
       "      <td>1</td>\n",
       "      <td>Private</td>\n",
       "      <td>228.69</td>\n",
       "      <td>36.6</td>\n",
       "      <td>formerly smoked</td>\n",
       "      <td>1</td>\n",
       "      <td>1</td>\n",
       "      <td>1</td>\n",
       "      <td>0</td>\n",
       "    </tr>\n",
       "    <tr>\n",
       "      <th>1</th>\n",
       "      <td>51676</td>\n",
       "      <td>61.0</td>\n",
       "      <td>0</td>\n",
       "      <td>0</td>\n",
       "      <td>Self-employed</td>\n",
       "      <td>202.21</td>\n",
       "      <td>28.4</td>\n",
       "      <td>never smoked</td>\n",
       "      <td>1</td>\n",
       "      <td>0</td>\n",
       "      <td>1</td>\n",
       "      <td>1</td>\n",
       "    </tr>\n",
       "    <tr>\n",
       "      <th>2</th>\n",
       "      <td>31112</td>\n",
       "      <td>80.0</td>\n",
       "      <td>0</td>\n",
       "      <td>1</td>\n",
       "      <td>Private</td>\n",
       "      <td>105.92</td>\n",
       "      <td>32.5</td>\n",
       "      <td>never smoked</td>\n",
       "      <td>1</td>\n",
       "      <td>1</td>\n",
       "      <td>1</td>\n",
       "      <td>1</td>\n",
       "    </tr>\n",
       "    <tr>\n",
       "      <th>3</th>\n",
       "      <td>60182</td>\n",
       "      <td>49.0</td>\n",
       "      <td>0</td>\n",
       "      <td>0</td>\n",
       "      <td>Private</td>\n",
       "      <td>171.23</td>\n",
       "      <td>34.4</td>\n",
       "      <td>smokes</td>\n",
       "      <td>1</td>\n",
       "      <td>0</td>\n",
       "      <td>1</td>\n",
       "      <td>0</td>\n",
       "    </tr>\n",
       "    <tr>\n",
       "      <th>4</th>\n",
       "      <td>1665</td>\n",
       "      <td>79.0</td>\n",
       "      <td>1</td>\n",
       "      <td>0</td>\n",
       "      <td>Self-employed</td>\n",
       "      <td>174.12</td>\n",
       "      <td>24.0</td>\n",
       "      <td>never smoked</td>\n",
       "      <td>1</td>\n",
       "      <td>0</td>\n",
       "      <td>1</td>\n",
       "      <td>1</td>\n",
       "    </tr>\n",
       "    <tr>\n",
       "      <th>...</th>\n",
       "      <td>...</td>\n",
       "      <td>...</td>\n",
       "      <td>...</td>\n",
       "      <td>...</td>\n",
       "      <td>...</td>\n",
       "      <td>...</td>\n",
       "      <td>...</td>\n",
       "      <td>...</td>\n",
       "      <td>...</td>\n",
       "      <td>...</td>\n",
       "      <td>...</td>\n",
       "      <td>...</td>\n",
       "    </tr>\n",
       "    <tr>\n",
       "      <th>5105</th>\n",
       "      <td>18234</td>\n",
       "      <td>80.0</td>\n",
       "      <td>1</td>\n",
       "      <td>0</td>\n",
       "      <td>Private</td>\n",
       "      <td>83.75</td>\n",
       "      <td>28.4</td>\n",
       "      <td>never smoked</td>\n",
       "      <td>0</td>\n",
       "      <td>0</td>\n",
       "      <td>1</td>\n",
       "      <td>0</td>\n",
       "    </tr>\n",
       "    <tr>\n",
       "      <th>5106</th>\n",
       "      <td>44873</td>\n",
       "      <td>81.0</td>\n",
       "      <td>0</td>\n",
       "      <td>0</td>\n",
       "      <td>Self-employed</td>\n",
       "      <td>125.20</td>\n",
       "      <td>40.0</td>\n",
       "      <td>never smoked</td>\n",
       "      <td>0</td>\n",
       "      <td>0</td>\n",
       "      <td>1</td>\n",
       "      <td>0</td>\n",
       "    </tr>\n",
       "    <tr>\n",
       "      <th>5107</th>\n",
       "      <td>19723</td>\n",
       "      <td>35.0</td>\n",
       "      <td>0</td>\n",
       "      <td>0</td>\n",
       "      <td>Self-employed</td>\n",
       "      <td>82.99</td>\n",
       "      <td>30.6</td>\n",
       "      <td>never smoked</td>\n",
       "      <td>0</td>\n",
       "      <td>0</td>\n",
       "      <td>1</td>\n",
       "      <td>1</td>\n",
       "    </tr>\n",
       "    <tr>\n",
       "      <th>5108</th>\n",
       "      <td>37544</td>\n",
       "      <td>51.0</td>\n",
       "      <td>0</td>\n",
       "      <td>0</td>\n",
       "      <td>Private</td>\n",
       "      <td>166.29</td>\n",
       "      <td>25.6</td>\n",
       "      <td>formerly smoked</td>\n",
       "      <td>0</td>\n",
       "      <td>1</td>\n",
       "      <td>1</td>\n",
       "      <td>1</td>\n",
       "    </tr>\n",
       "    <tr>\n",
       "      <th>5109</th>\n",
       "      <td>44679</td>\n",
       "      <td>44.0</td>\n",
       "      <td>0</td>\n",
       "      <td>0</td>\n",
       "      <td>Govt_job</td>\n",
       "      <td>85.28</td>\n",
       "      <td>26.2</td>\n",
       "      <td>Unknown</td>\n",
       "      <td>0</td>\n",
       "      <td>0</td>\n",
       "      <td>1</td>\n",
       "      <td>0</td>\n",
       "    </tr>\n",
       "  </tbody>\n",
       "</table>\n",
       "<p>5109 rows × 12 columns</p>\n",
       "</div>"
      ],
      "text/plain": [
       "         id   age  hypertension  heart_disease      work_type  \\\n",
       "0      9046  67.0             0              1        Private   \n",
       "1     51676  61.0             0              0  Self-employed   \n",
       "2     31112  80.0             0              1        Private   \n",
       "3     60182  49.0             0              0        Private   \n",
       "4      1665  79.0             1              0  Self-employed   \n",
       "...     ...   ...           ...            ...            ...   \n",
       "5105  18234  80.0             1              0        Private   \n",
       "5106  44873  81.0             0              0  Self-employed   \n",
       "5107  19723  35.0             0              0  Self-employed   \n",
       "5108  37544  51.0             0              0        Private   \n",
       "5109  44679  44.0             0              0       Govt_job   \n",
       "\n",
       "      avg_glucose_level   bmi   smoking_status  stroke  Male  Married_Lbl  \\\n",
       "0                228.69  36.6  formerly smoked       1     1            1   \n",
       "1                202.21  28.4     never smoked       1     0            1   \n",
       "2                105.92  32.5     never smoked       1     1            1   \n",
       "3                171.23  34.4           smokes       1     0            1   \n",
       "4                174.12  24.0     never smoked       1     0            1   \n",
       "...                 ...   ...              ...     ...   ...          ...   \n",
       "5105              83.75  28.4     never smoked       0     0            1   \n",
       "5106             125.20  40.0     never smoked       0     0            1   \n",
       "5107              82.99  30.6     never smoked       0     0            1   \n",
       "5108             166.29  25.6  formerly smoked       0     1            1   \n",
       "5109              85.28  26.2          Unknown       0     0            1   \n",
       "\n",
       "      Residence_Lbl  \n",
       "0                 0  \n",
       "1                 1  \n",
       "2                 1  \n",
       "3                 0  \n",
       "4                 1  \n",
       "...             ...  \n",
       "5105              0  \n",
       "5106              0  \n",
       "5107              1  \n",
       "5108              1  \n",
       "5109              0  \n",
       "\n",
       "[5109 rows x 12 columns]"
      ]
     },
     "execution_count": 80,
     "metadata": {},
     "output_type": "execute_result"
    }
   ],
   "source": [
    "# replace gender (male,female) labels using dummies\n",
    "# short method\n",
    "df_strokes[\"Married_Lbl\"] = [1 if x == \"Yes\" else 0 for x in df_strokes.ever_married] #label encoding\n",
    "df_strokes.drop(\"ever_married\", axis=1, inplace=True)\n",
    "\n",
    "df_strokes[\"Residence_Lbl\"] = [1 if x == \"Rural\" else 0 for x in df_strokes.Residence_type] #label encoding\n",
    "df_strokes.drop(\"Residence_type\", axis=1, inplace=True)\n",
    "df_strokes"
   ]
  },
  {
   "cell_type": "code",
   "execution_count": 81,
   "metadata": {},
   "outputs": [],
   "source": [
    "work_n_smoking_dums = pd.get_dummies(df_strokes[[\"work_type\", \"smoking_status\"]], drop_first=False)"
   ]
  },
  {
   "cell_type": "code",
   "execution_count": 82,
   "metadata": {},
   "outputs": [
    {
     "data": {
      "text/html": [
       "<div>\n",
       "<style scoped>\n",
       "    .dataframe tbody tr th:only-of-type {\n",
       "        vertical-align: middle;\n",
       "    }\n",
       "\n",
       "    .dataframe tbody tr th {\n",
       "        vertical-align: top;\n",
       "    }\n",
       "\n",
       "    .dataframe thead th {\n",
       "        text-align: right;\n",
       "    }\n",
       "</style>\n",
       "<table border=\"1\" class=\"dataframe\">\n",
       "  <thead>\n",
       "    <tr style=\"text-align: right;\">\n",
       "      <th></th>\n",
       "      <th>work_type_Govt_job</th>\n",
       "      <th>work_type_Never_worked</th>\n",
       "      <th>work_type_Private</th>\n",
       "      <th>work_type_Self-employed</th>\n",
       "      <th>work_type_children</th>\n",
       "      <th>smoking_status_Unknown</th>\n",
       "      <th>smoking_status_formerly smoked</th>\n",
       "      <th>smoking_status_never smoked</th>\n",
       "      <th>smoking_status_smokes</th>\n",
       "    </tr>\n",
       "  </thead>\n",
       "  <tbody>\n",
       "    <tr>\n",
       "      <th>0</th>\n",
       "      <td>0</td>\n",
       "      <td>0</td>\n",
       "      <td>1</td>\n",
       "      <td>0</td>\n",
       "      <td>0</td>\n",
       "      <td>0</td>\n",
       "      <td>1</td>\n",
       "      <td>0</td>\n",
       "      <td>0</td>\n",
       "    </tr>\n",
       "    <tr>\n",
       "      <th>1</th>\n",
       "      <td>0</td>\n",
       "      <td>0</td>\n",
       "      <td>0</td>\n",
       "      <td>1</td>\n",
       "      <td>0</td>\n",
       "      <td>0</td>\n",
       "      <td>0</td>\n",
       "      <td>1</td>\n",
       "      <td>0</td>\n",
       "    </tr>\n",
       "    <tr>\n",
       "      <th>2</th>\n",
       "      <td>0</td>\n",
       "      <td>0</td>\n",
       "      <td>1</td>\n",
       "      <td>0</td>\n",
       "      <td>0</td>\n",
       "      <td>0</td>\n",
       "      <td>0</td>\n",
       "      <td>1</td>\n",
       "      <td>0</td>\n",
       "    </tr>\n",
       "    <tr>\n",
       "      <th>3</th>\n",
       "      <td>0</td>\n",
       "      <td>0</td>\n",
       "      <td>1</td>\n",
       "      <td>0</td>\n",
       "      <td>0</td>\n",
       "      <td>0</td>\n",
       "      <td>0</td>\n",
       "      <td>0</td>\n",
       "      <td>1</td>\n",
       "    </tr>\n",
       "    <tr>\n",
       "      <th>4</th>\n",
       "      <td>0</td>\n",
       "      <td>0</td>\n",
       "      <td>0</td>\n",
       "      <td>1</td>\n",
       "      <td>0</td>\n",
       "      <td>0</td>\n",
       "      <td>0</td>\n",
       "      <td>1</td>\n",
       "      <td>0</td>\n",
       "    </tr>\n",
       "    <tr>\n",
       "      <th>...</th>\n",
       "      <td>...</td>\n",
       "      <td>...</td>\n",
       "      <td>...</td>\n",
       "      <td>...</td>\n",
       "      <td>...</td>\n",
       "      <td>...</td>\n",
       "      <td>...</td>\n",
       "      <td>...</td>\n",
       "      <td>...</td>\n",
       "    </tr>\n",
       "    <tr>\n",
       "      <th>5105</th>\n",
       "      <td>0</td>\n",
       "      <td>0</td>\n",
       "      <td>1</td>\n",
       "      <td>0</td>\n",
       "      <td>0</td>\n",
       "      <td>0</td>\n",
       "      <td>0</td>\n",
       "      <td>1</td>\n",
       "      <td>0</td>\n",
       "    </tr>\n",
       "    <tr>\n",
       "      <th>5106</th>\n",
       "      <td>0</td>\n",
       "      <td>0</td>\n",
       "      <td>0</td>\n",
       "      <td>1</td>\n",
       "      <td>0</td>\n",
       "      <td>0</td>\n",
       "      <td>0</td>\n",
       "      <td>1</td>\n",
       "      <td>0</td>\n",
       "    </tr>\n",
       "    <tr>\n",
       "      <th>5107</th>\n",
       "      <td>0</td>\n",
       "      <td>0</td>\n",
       "      <td>0</td>\n",
       "      <td>1</td>\n",
       "      <td>0</td>\n",
       "      <td>0</td>\n",
       "      <td>0</td>\n",
       "      <td>1</td>\n",
       "      <td>0</td>\n",
       "    </tr>\n",
       "    <tr>\n",
       "      <th>5108</th>\n",
       "      <td>0</td>\n",
       "      <td>0</td>\n",
       "      <td>1</td>\n",
       "      <td>0</td>\n",
       "      <td>0</td>\n",
       "      <td>0</td>\n",
       "      <td>1</td>\n",
       "      <td>0</td>\n",
       "      <td>0</td>\n",
       "    </tr>\n",
       "    <tr>\n",
       "      <th>5109</th>\n",
       "      <td>1</td>\n",
       "      <td>0</td>\n",
       "      <td>0</td>\n",
       "      <td>0</td>\n",
       "      <td>0</td>\n",
       "      <td>1</td>\n",
       "      <td>0</td>\n",
       "      <td>0</td>\n",
       "      <td>0</td>\n",
       "    </tr>\n",
       "  </tbody>\n",
       "</table>\n",
       "<p>5109 rows × 9 columns</p>\n",
       "</div>"
      ],
      "text/plain": [
       "      work_type_Govt_job  work_type_Never_worked  work_type_Private  \\\n",
       "0                      0                       0                  1   \n",
       "1                      0                       0                  0   \n",
       "2                      0                       0                  1   \n",
       "3                      0                       0                  1   \n",
       "4                      0                       0                  0   \n",
       "...                  ...                     ...                ...   \n",
       "5105                   0                       0                  1   \n",
       "5106                   0                       0                  0   \n",
       "5107                   0                       0                  0   \n",
       "5108                   0                       0                  1   \n",
       "5109                   1                       0                  0   \n",
       "\n",
       "      work_type_Self-employed  work_type_children  smoking_status_Unknown  \\\n",
       "0                           0                   0                       0   \n",
       "1                           1                   0                       0   \n",
       "2                           0                   0                       0   \n",
       "3                           0                   0                       0   \n",
       "4                           1                   0                       0   \n",
       "...                       ...                 ...                     ...   \n",
       "5105                        0                   0                       0   \n",
       "5106                        1                   0                       0   \n",
       "5107                        1                   0                       0   \n",
       "5108                        0                   0                       0   \n",
       "5109                        0                   0                       1   \n",
       "\n",
       "      smoking_status_formerly smoked  smoking_status_never smoked  \\\n",
       "0                                  1                            0   \n",
       "1                                  0                            1   \n",
       "2                                  0                            1   \n",
       "3                                  0                            0   \n",
       "4                                  0                            1   \n",
       "...                              ...                          ...   \n",
       "5105                               0                            1   \n",
       "5106                               0                            1   \n",
       "5107                               0                            1   \n",
       "5108                               1                            0   \n",
       "5109                               0                            0   \n",
       "\n",
       "      smoking_status_smokes  \n",
       "0                         0  \n",
       "1                         0  \n",
       "2                         0  \n",
       "3                         1  \n",
       "4                         0  \n",
       "...                     ...  \n",
       "5105                      0  \n",
       "5106                      0  \n",
       "5107                      0  \n",
       "5108                      0  \n",
       "5109                      0  \n",
       "\n",
       "[5109 rows x 9 columns]"
      ]
     },
     "execution_count": 82,
     "metadata": {},
     "output_type": "execute_result"
    }
   ],
   "source": [
    "work_n_smoking_dums"
   ]
  },
  {
   "cell_type": "code",
   "execution_count": 83,
   "metadata": {},
   "outputs": [
    {
     "data": {
      "text/html": [
       "<div>\n",
       "<style scoped>\n",
       "    .dataframe tbody tr th:only-of-type {\n",
       "        vertical-align: middle;\n",
       "    }\n",
       "\n",
       "    .dataframe tbody tr th {\n",
       "        vertical-align: top;\n",
       "    }\n",
       "\n",
       "    .dataframe thead th {\n",
       "        text-align: right;\n",
       "    }\n",
       "</style>\n",
       "<table border=\"1\" class=\"dataframe\">\n",
       "  <thead>\n",
       "    <tr style=\"text-align: right;\">\n",
       "      <th></th>\n",
       "      <th>id</th>\n",
       "      <th>age</th>\n",
       "      <th>hypertension</th>\n",
       "      <th>heart_disease</th>\n",
       "      <th>avg_glucose_level</th>\n",
       "      <th>bmi</th>\n",
       "      <th>stroke</th>\n",
       "      <th>Male</th>\n",
       "      <th>Married_Lbl</th>\n",
       "      <th>Residence_Lbl</th>\n",
       "      <th>work_type_Govt_job</th>\n",
       "      <th>work_type_Never_worked</th>\n",
       "      <th>work_type_Private</th>\n",
       "      <th>work_type_Self-employed</th>\n",
       "      <th>work_type_children</th>\n",
       "      <th>smoking_status_Unknown</th>\n",
       "      <th>smoking_status_formerly smoked</th>\n",
       "      <th>smoking_status_never smoked</th>\n",
       "      <th>smoking_status_smokes</th>\n",
       "    </tr>\n",
       "  </thead>\n",
       "  <tbody>\n",
       "    <tr>\n",
       "      <th>0</th>\n",
       "      <td>9046</td>\n",
       "      <td>67.0</td>\n",
       "      <td>0</td>\n",
       "      <td>1</td>\n",
       "      <td>228.69</td>\n",
       "      <td>36.6</td>\n",
       "      <td>1</td>\n",
       "      <td>1</td>\n",
       "      <td>1</td>\n",
       "      <td>0</td>\n",
       "      <td>0</td>\n",
       "      <td>0</td>\n",
       "      <td>1</td>\n",
       "      <td>0</td>\n",
       "      <td>0</td>\n",
       "      <td>0</td>\n",
       "      <td>1</td>\n",
       "      <td>0</td>\n",
       "      <td>0</td>\n",
       "    </tr>\n",
       "    <tr>\n",
       "      <th>1</th>\n",
       "      <td>51676</td>\n",
       "      <td>61.0</td>\n",
       "      <td>0</td>\n",
       "      <td>0</td>\n",
       "      <td>202.21</td>\n",
       "      <td>28.4</td>\n",
       "      <td>1</td>\n",
       "      <td>0</td>\n",
       "      <td>1</td>\n",
       "      <td>1</td>\n",
       "      <td>0</td>\n",
       "      <td>0</td>\n",
       "      <td>0</td>\n",
       "      <td>1</td>\n",
       "      <td>0</td>\n",
       "      <td>0</td>\n",
       "      <td>0</td>\n",
       "      <td>1</td>\n",
       "      <td>0</td>\n",
       "    </tr>\n",
       "    <tr>\n",
       "      <th>2</th>\n",
       "      <td>31112</td>\n",
       "      <td>80.0</td>\n",
       "      <td>0</td>\n",
       "      <td>1</td>\n",
       "      <td>105.92</td>\n",
       "      <td>32.5</td>\n",
       "      <td>1</td>\n",
       "      <td>1</td>\n",
       "      <td>1</td>\n",
       "      <td>1</td>\n",
       "      <td>0</td>\n",
       "      <td>0</td>\n",
       "      <td>1</td>\n",
       "      <td>0</td>\n",
       "      <td>0</td>\n",
       "      <td>0</td>\n",
       "      <td>0</td>\n",
       "      <td>1</td>\n",
       "      <td>0</td>\n",
       "    </tr>\n",
       "    <tr>\n",
       "      <th>3</th>\n",
       "      <td>60182</td>\n",
       "      <td>49.0</td>\n",
       "      <td>0</td>\n",
       "      <td>0</td>\n",
       "      <td>171.23</td>\n",
       "      <td>34.4</td>\n",
       "      <td>1</td>\n",
       "      <td>0</td>\n",
       "      <td>1</td>\n",
       "      <td>0</td>\n",
       "      <td>0</td>\n",
       "      <td>0</td>\n",
       "      <td>1</td>\n",
       "      <td>0</td>\n",
       "      <td>0</td>\n",
       "      <td>0</td>\n",
       "      <td>0</td>\n",
       "      <td>0</td>\n",
       "      <td>1</td>\n",
       "    </tr>\n",
       "    <tr>\n",
       "      <th>4</th>\n",
       "      <td>1665</td>\n",
       "      <td>79.0</td>\n",
       "      <td>1</td>\n",
       "      <td>0</td>\n",
       "      <td>174.12</td>\n",
       "      <td>24.0</td>\n",
       "      <td>1</td>\n",
       "      <td>0</td>\n",
       "      <td>1</td>\n",
       "      <td>1</td>\n",
       "      <td>0</td>\n",
       "      <td>0</td>\n",
       "      <td>0</td>\n",
       "      <td>1</td>\n",
       "      <td>0</td>\n",
       "      <td>0</td>\n",
       "      <td>0</td>\n",
       "      <td>1</td>\n",
       "      <td>0</td>\n",
       "    </tr>\n",
       "    <tr>\n",
       "      <th>...</th>\n",
       "      <td>...</td>\n",
       "      <td>...</td>\n",
       "      <td>...</td>\n",
       "      <td>...</td>\n",
       "      <td>...</td>\n",
       "      <td>...</td>\n",
       "      <td>...</td>\n",
       "      <td>...</td>\n",
       "      <td>...</td>\n",
       "      <td>...</td>\n",
       "      <td>...</td>\n",
       "      <td>...</td>\n",
       "      <td>...</td>\n",
       "      <td>...</td>\n",
       "      <td>...</td>\n",
       "      <td>...</td>\n",
       "      <td>...</td>\n",
       "      <td>...</td>\n",
       "      <td>...</td>\n",
       "    </tr>\n",
       "    <tr>\n",
       "      <th>5105</th>\n",
       "      <td>18234</td>\n",
       "      <td>80.0</td>\n",
       "      <td>1</td>\n",
       "      <td>0</td>\n",
       "      <td>83.75</td>\n",
       "      <td>28.4</td>\n",
       "      <td>0</td>\n",
       "      <td>0</td>\n",
       "      <td>1</td>\n",
       "      <td>0</td>\n",
       "      <td>0</td>\n",
       "      <td>0</td>\n",
       "      <td>1</td>\n",
       "      <td>0</td>\n",
       "      <td>0</td>\n",
       "      <td>0</td>\n",
       "      <td>0</td>\n",
       "      <td>1</td>\n",
       "      <td>0</td>\n",
       "    </tr>\n",
       "    <tr>\n",
       "      <th>5106</th>\n",
       "      <td>44873</td>\n",
       "      <td>81.0</td>\n",
       "      <td>0</td>\n",
       "      <td>0</td>\n",
       "      <td>125.20</td>\n",
       "      <td>40.0</td>\n",
       "      <td>0</td>\n",
       "      <td>0</td>\n",
       "      <td>1</td>\n",
       "      <td>0</td>\n",
       "      <td>0</td>\n",
       "      <td>0</td>\n",
       "      <td>0</td>\n",
       "      <td>1</td>\n",
       "      <td>0</td>\n",
       "      <td>0</td>\n",
       "      <td>0</td>\n",
       "      <td>1</td>\n",
       "      <td>0</td>\n",
       "    </tr>\n",
       "    <tr>\n",
       "      <th>5107</th>\n",
       "      <td>19723</td>\n",
       "      <td>35.0</td>\n",
       "      <td>0</td>\n",
       "      <td>0</td>\n",
       "      <td>82.99</td>\n",
       "      <td>30.6</td>\n",
       "      <td>0</td>\n",
       "      <td>0</td>\n",
       "      <td>1</td>\n",
       "      <td>1</td>\n",
       "      <td>0</td>\n",
       "      <td>0</td>\n",
       "      <td>0</td>\n",
       "      <td>1</td>\n",
       "      <td>0</td>\n",
       "      <td>0</td>\n",
       "      <td>0</td>\n",
       "      <td>1</td>\n",
       "      <td>0</td>\n",
       "    </tr>\n",
       "    <tr>\n",
       "      <th>5108</th>\n",
       "      <td>37544</td>\n",
       "      <td>51.0</td>\n",
       "      <td>0</td>\n",
       "      <td>0</td>\n",
       "      <td>166.29</td>\n",
       "      <td>25.6</td>\n",
       "      <td>0</td>\n",
       "      <td>1</td>\n",
       "      <td>1</td>\n",
       "      <td>1</td>\n",
       "      <td>0</td>\n",
       "      <td>0</td>\n",
       "      <td>1</td>\n",
       "      <td>0</td>\n",
       "      <td>0</td>\n",
       "      <td>0</td>\n",
       "      <td>1</td>\n",
       "      <td>0</td>\n",
       "      <td>0</td>\n",
       "    </tr>\n",
       "    <tr>\n",
       "      <th>5109</th>\n",
       "      <td>44679</td>\n",
       "      <td>44.0</td>\n",
       "      <td>0</td>\n",
       "      <td>0</td>\n",
       "      <td>85.28</td>\n",
       "      <td>26.2</td>\n",
       "      <td>0</td>\n",
       "      <td>0</td>\n",
       "      <td>1</td>\n",
       "      <td>0</td>\n",
       "      <td>1</td>\n",
       "      <td>0</td>\n",
       "      <td>0</td>\n",
       "      <td>0</td>\n",
       "      <td>0</td>\n",
       "      <td>1</td>\n",
       "      <td>0</td>\n",
       "      <td>0</td>\n",
       "      <td>0</td>\n",
       "    </tr>\n",
       "  </tbody>\n",
       "</table>\n",
       "<p>5109 rows × 19 columns</p>\n",
       "</div>"
      ],
      "text/plain": [
       "         id   age  hypertension  heart_disease  avg_glucose_level   bmi  \\\n",
       "0      9046  67.0             0              1             228.69  36.6   \n",
       "1     51676  61.0             0              0             202.21  28.4   \n",
       "2     31112  80.0             0              1             105.92  32.5   \n",
       "3     60182  49.0             0              0             171.23  34.4   \n",
       "4      1665  79.0             1              0             174.12  24.0   \n",
       "...     ...   ...           ...            ...                ...   ...   \n",
       "5105  18234  80.0             1              0              83.75  28.4   \n",
       "5106  44873  81.0             0              0             125.20  40.0   \n",
       "5107  19723  35.0             0              0              82.99  30.6   \n",
       "5108  37544  51.0             0              0             166.29  25.6   \n",
       "5109  44679  44.0             0              0              85.28  26.2   \n",
       "\n",
       "      stroke  Male  Married_Lbl  Residence_Lbl  work_type_Govt_job  \\\n",
       "0          1     1            1              0                   0   \n",
       "1          1     0            1              1                   0   \n",
       "2          1     1            1              1                   0   \n",
       "3          1     0            1              0                   0   \n",
       "4          1     0            1              1                   0   \n",
       "...      ...   ...          ...            ...                 ...   \n",
       "5105       0     0            1              0                   0   \n",
       "5106       0     0            1              0                   0   \n",
       "5107       0     0            1              1                   0   \n",
       "5108       0     1            1              1                   0   \n",
       "5109       0     0            1              0                   1   \n",
       "\n",
       "      work_type_Never_worked  work_type_Private  work_type_Self-employed  \\\n",
       "0                          0                  1                        0   \n",
       "1                          0                  0                        1   \n",
       "2                          0                  1                        0   \n",
       "3                          0                  1                        0   \n",
       "4                          0                  0                        1   \n",
       "...                      ...                ...                      ...   \n",
       "5105                       0                  1                        0   \n",
       "5106                       0                  0                        1   \n",
       "5107                       0                  0                        1   \n",
       "5108                       0                  1                        0   \n",
       "5109                       0                  0                        0   \n",
       "\n",
       "      work_type_children  smoking_status_Unknown  \\\n",
       "0                      0                       0   \n",
       "1                      0                       0   \n",
       "2                      0                       0   \n",
       "3                      0                       0   \n",
       "4                      0                       0   \n",
       "...                  ...                     ...   \n",
       "5105                   0                       0   \n",
       "5106                   0                       0   \n",
       "5107                   0                       0   \n",
       "5108                   0                       0   \n",
       "5109                   0                       1   \n",
       "\n",
       "      smoking_status_formerly smoked  smoking_status_never smoked  \\\n",
       "0                                  1                            0   \n",
       "1                                  0                            1   \n",
       "2                                  0                            1   \n",
       "3                                  0                            0   \n",
       "4                                  0                            1   \n",
       "...                              ...                          ...   \n",
       "5105                               0                            1   \n",
       "5106                               0                            1   \n",
       "5107                               0                            1   \n",
       "5108                               1                            0   \n",
       "5109                               0                            0   \n",
       "\n",
       "      smoking_status_smokes  \n",
       "0                         0  \n",
       "1                         0  \n",
       "2                         0  \n",
       "3                         1  \n",
       "4                         0  \n",
       "...                     ...  \n",
       "5105                      0  \n",
       "5106                      0  \n",
       "5107                      0  \n",
       "5108                      0  \n",
       "5109                      0  \n",
       "\n",
       "[5109 rows x 19 columns]"
      ]
     },
     "execution_count": 83,
     "metadata": {},
     "output_type": "execute_result"
    }
   ],
   "source": [
    "df_strokes.drop(['work_type'],axis=1,inplace=True)\n",
    "df_strokes.drop(['smoking_status'],axis=1,inplace=True)\n",
    "df_strokes=pd.concat([df_strokes,work_n_smoking_dums],axis=1)\n",
    "df_strokes"
   ]
  },
  {
   "cell_type": "markdown",
   "metadata": {},
   "source": [
    "## Correlation Heatmap"
   ]
  },
  {
   "cell_type": "code",
   "execution_count": 84,
   "metadata": {},
   "outputs": [
    {
     "data": {
      "text/plain": [
       "['id',\n",
       " 'age',\n",
       " 'hypertension',\n",
       " 'heart_disease',\n",
       " 'avg_glucose_level',\n",
       " 'bmi',\n",
       " 'stroke',\n",
       " 'Male',\n",
       " 'Married_Lbl',\n",
       " 'Residence_Lbl',\n",
       " 'work_type_Govt_job',\n",
       " 'work_type_Never_worked',\n",
       " 'work_type_Private',\n",
       " 'work_type_Self-employed',\n",
       " 'work_type_children',\n",
       " 'smoking_status_Unknown',\n",
       " 'smoking_status_formerly smoked',\n",
       " 'smoking_status_never smoked',\n",
       " 'smoking_status_smokes']"
      ]
     },
     "execution_count": 84,
     "metadata": {},
     "output_type": "execute_result"
    }
   ],
   "source": [
    "df_strokes.columns.tolist()"
   ]
  },
  {
   "cell_type": "code",
   "execution_count": 85,
   "metadata": {},
   "outputs": [
    {
     "data": {
      "image/png": "[encoded data removed]",
      "text/plain": [
       "<Figure size 1296x864 with 2 Axes>"
      ]
     },
     "metadata": {
      "needs_background": "light"
     },
     "output_type": "display_data"
    }
   ],
   "source": [
    "df_strokes =  df_strokes[[\n",
    " 'stroke',  \n",
    " 'age',\n",
    " 'heart_disease',\n",
    " 'avg_glucose_level', \n",
    " 'hypertension', \n",
    " 'Married_Lbl', \n",
    " 'smoking_status_formerly smoked',   \n",
    " 'work_type_Self-employed', \n",
    " 'bmi',\n",
    " 'work_type_Private',    \n",
    " 'Male', \n",
    " 'smoking_status_smokes',   \n",
    " 'work_type_Govt_job', \n",
    " 'smoking_status_never smoked',   \n",
    " 'work_type_Never_worked',    \n",
    " 'Residence_Lbl',  \n",
    " 'smoking_status_Unknown',   \n",
    " 'work_type_children' \n",
    " ]]\n",
    "df_strokes.corr()\n",
    "\n",
    "plt.figure(figsize=(18,12))\n",
    "sns.heatmap(df_strokes.corr())\n",
    "plt.show()"
   ]
  },
  {
   "cell_type": "code",
   "execution_count": 86,
   "metadata": {},
   "outputs": [
    {
     "data": {
      "text/html": [
       "<div>\n",
       "<style scoped>\n",
       "    .dataframe tbody tr th:only-of-type {\n",
       "        vertical-align: middle;\n",
       "    }\n",
       "\n",
       "    .dataframe tbody tr th {\n",
       "        vertical-align: top;\n",
       "    }\n",
       "\n",
       "    .dataframe thead th {\n",
       "        text-align: right;\n",
       "    }\n",
       "</style>\n",
       "<table border=\"1\" class=\"dataframe\">\n",
       "  <thead>\n",
       "    <tr style=\"text-align: right;\">\n",
       "      <th></th>\n",
       "      <th>stroke</th>\n",
       "      <th>age</th>\n",
       "      <th>heart_disease</th>\n",
       "      <th>avg_glucose_level</th>\n",
       "      <th>hypertension</th>\n",
       "      <th>Married_Lbl</th>\n",
       "      <th>smoking_status_formerly smoked</th>\n",
       "      <th>work_type_Self-employed</th>\n",
       "      <th>bmi</th>\n",
       "      <th>work_type_Private</th>\n",
       "      <th>Male</th>\n",
       "      <th>smoking_status_smokes</th>\n",
       "      <th>work_type_Govt_job</th>\n",
       "      <th>smoking_status_never smoked</th>\n",
       "      <th>work_type_Never_worked</th>\n",
       "      <th>Residence_Lbl</th>\n",
       "      <th>smoking_status_Unknown</th>\n",
       "      <th>work_type_children</th>\n",
       "    </tr>\n",
       "  </thead>\n",
       "  <tbody>\n",
       "    <tr>\n",
       "      <th>stroke</th>\n",
       "      <td>1.000000</td>\n",
       "      <td>0.245239</td>\n",
       "      <td>0.134905</td>\n",
       "      <td>0.131991</td>\n",
       "      <td>0.127891</td>\n",
       "      <td>0.108299</td>\n",
       "      <td>0.064683</td>\n",
       "      <td>0.062150</td>\n",
       "      <td>0.036157</td>\n",
       "      <td>0.011927</td>\n",
       "      <td>0.009081</td>\n",
       "      <td>0.008920</td>\n",
       "      <td>0.002660</td>\n",
       "      <td>-0.004163</td>\n",
       "      <td>-0.014885</td>\n",
       "      <td>-0.015415</td>\n",
       "      <td>-0.055924</td>\n",
       "      <td>-0.083888</td>\n",
       "    </tr>\n",
       "    <tr>\n",
       "      <th>age</th>\n",
       "      <td>0.245239</td>\n",
       "      <td>1.000000</td>\n",
       "      <td>0.263777</td>\n",
       "      <td>0.238323</td>\n",
       "      <td>0.276367</td>\n",
       "      <td>0.679084</td>\n",
       "      <td>0.237347</td>\n",
       "      <td>0.327949</td>\n",
       "      <td>0.324261</td>\n",
       "      <td>0.116678</td>\n",
       "      <td>-0.027752</td>\n",
       "      <td>0.073075</td>\n",
       "      <td>0.129965</td>\n",
       "      <td>0.119207</td>\n",
       "      <td>-0.078667</td>\n",
       "      <td>-0.014031</td>\n",
       "      <td>-0.378366</td>\n",
       "      <td>-0.634320</td>\n",
       "    </tr>\n",
       "    <tr>\n",
       "      <th>heart_disease</th>\n",
       "      <td>0.134905</td>\n",
       "      <td>0.263777</td>\n",
       "      <td>1.000000</td>\n",
       "      <td>0.161907</td>\n",
       "      <td>0.108292</td>\n",
       "      <td>0.114601</td>\n",
       "      <td>0.066938</td>\n",
       "      <td>0.086742</td>\n",
       "      <td>0.036654</td>\n",
       "      <td>0.000068</td>\n",
       "      <td>0.085685</td>\n",
       "      <td>0.044030</td>\n",
       "      <td>0.001312</td>\n",
       "      <td>-0.021893</td>\n",
       "      <td>-0.015715</td>\n",
       "      <td>-0.003045</td>\n",
       "      <td>-0.066765</td>\n",
       "      <td>-0.091654</td>\n",
       "    </tr>\n",
       "    <tr>\n",
       "      <th>avg_glucose_level</th>\n",
       "      <td>0.131991</td>\n",
       "      <td>0.238323</td>\n",
       "      <td>0.161907</td>\n",
       "      <td>1.000000</td>\n",
       "      <td>0.174540</td>\n",
       "      <td>0.155329</td>\n",
       "      <td>0.067796</td>\n",
       "      <td>0.062770</td>\n",
       "      <td>0.166973</td>\n",
       "      <td>0.016451</td>\n",
       "      <td>0.054722</td>\n",
       "      <td>0.017716</td>\n",
       "      <td>0.013908</td>\n",
       "      <td>0.024011</td>\n",
       "      <td>-0.014665</td>\n",
       "      <td>0.004783</td>\n",
       "      <td>-0.095035</td>\n",
       "      <td>-0.102195</td>\n",
       "    </tr>\n",
       "    <tr>\n",
       "      <th>hypertension</th>\n",
       "      <td>0.127891</td>\n",
       "      <td>0.276367</td>\n",
       "      <td>0.108292</td>\n",
       "      <td>0.174540</td>\n",
       "      <td>1.000000</td>\n",
       "      <td>0.164187</td>\n",
       "      <td>0.059022</td>\n",
       "      <td>0.115417</td>\n",
       "      <td>0.158341</td>\n",
       "      <td>-0.005358</td>\n",
       "      <td>0.021223</td>\n",
       "      <td>0.031213</td>\n",
       "      <td>0.017661</td>\n",
       "      <td>0.065018</td>\n",
       "      <td>-0.021612</td>\n",
       "      <td>0.007980</td>\n",
       "      <td>-0.141551</td>\n",
       "      <td>-0.129535</td>\n",
       "    </tr>\n",
       "    <tr>\n",
       "      <th>Married_Lbl</th>\n",
       "      <td>0.108299</td>\n",
       "      <td>0.679084</td>\n",
       "      <td>0.114601</td>\n",
       "      <td>0.155329</td>\n",
       "      <td>0.164187</td>\n",
       "      <td>1.000000</td>\n",
       "      <td>0.171960</td>\n",
       "      <td>0.192637</td>\n",
       "      <td>0.334623</td>\n",
       "      <td>0.154104</td>\n",
       "      <td>-0.030171</td>\n",
       "      <td>0.105132</td>\n",
       "      <td>0.133964</td>\n",
       "      <td>0.102663</td>\n",
       "      <td>-0.090873</td>\n",
       "      <td>-0.005988</td>\n",
       "      <td>-0.332335</td>\n",
       "      <td>-0.544658</td>\n",
       "    </tr>\n",
       "    <tr>\n",
       "      <th>smoking_status_formerly smoked</th>\n",
       "      <td>0.064683</td>\n",
       "      <td>0.237347</td>\n",
       "      <td>0.066938</td>\n",
       "      <td>0.067796</td>\n",
       "      <td>0.059022</td>\n",
       "      <td>0.171960</td>\n",
       "      <td>1.000000</td>\n",
       "      <td>0.093492</td>\n",
       "      <td>0.103767</td>\n",
       "      <td>0.025170</td>\n",
       "      <td>0.043121</td>\n",
       "      <td>-0.195483</td>\n",
       "      <td>0.029865</td>\n",
       "      <td>-0.350790</td>\n",
       "      <td>-0.030081</td>\n",
       "      <td>-0.008093</td>\n",
       "      <td>-0.301028</td>\n",
       "      <td>-0.160577</td>\n",
       "    </tr>\n",
       "    <tr>\n",
       "      <th>work_type_Self-employed</th>\n",
       "      <td>0.062150</td>\n",
       "      <td>0.327949</td>\n",
       "      <td>0.086742</td>\n",
       "      <td>0.062770</td>\n",
       "      <td>0.115417</td>\n",
       "      <td>0.192637</td>\n",
       "      <td>0.093492</td>\n",
       "      <td>1.000000</td>\n",
       "      <td>0.070323</td>\n",
       "      <td>-0.505448</td>\n",
       "      <td>-0.026045</td>\n",
       "      <td>-0.003663</td>\n",
       "      <td>-0.167849</td>\n",
       "      <td>0.030605</td>\n",
       "      <td>-0.028734</td>\n",
       "      <td>-0.010508</td>\n",
       "      <td>-0.106313</td>\n",
       "      <td>-0.172219</td>\n",
       "    </tr>\n",
       "    <tr>\n",
       "      <th>bmi</th>\n",
       "      <td>0.036157</td>\n",
       "      <td>0.324261</td>\n",
       "      <td>0.036654</td>\n",
       "      <td>0.166973</td>\n",
       "      <td>0.158341</td>\n",
       "      <td>0.334623</td>\n",
       "      <td>0.103767</td>\n",
       "      <td>0.070323</td>\n",
       "      <td>1.000000</td>\n",
       "      <td>0.203864</td>\n",
       "      <td>-0.028017</td>\n",
       "      <td>0.084391</td>\n",
       "      <td>0.077886</td>\n",
       "      <td>0.107751</td>\n",
       "      <td>-0.028336</td>\n",
       "      <td>0.000359</td>\n",
       "      <td>-0.265191</td>\n",
       "      <td>-0.442257</td>\n",
       "    </tr>\n",
       "    <tr>\n",
       "      <th>work_type_Private</th>\n",
       "      <td>0.011927</td>\n",
       "      <td>0.116678</td>\n",
       "      <td>0.000068</td>\n",
       "      <td>0.016451</td>\n",
       "      <td>-0.005358</td>\n",
       "      <td>0.154104</td>\n",
       "      <td>0.025170</td>\n",
       "      <td>-0.505448</td>\n",
       "      <td>0.203864</td>\n",
       "      <td>1.000000</td>\n",
       "      <td>-0.032502</td>\n",
       "      <td>0.100107</td>\n",
       "      <td>-0.444394</td>\n",
       "      <td>0.105003</td>\n",
       "      <td>-0.076075</td>\n",
       "      <td>0.018005</td>\n",
       "      <td>-0.209926</td>\n",
       "      <td>-0.455965</td>\n",
       "    </tr>\n",
       "    <tr>\n",
       "      <th>Male</th>\n",
       "      <td>0.009081</td>\n",
       "      <td>-0.027752</td>\n",
       "      <td>0.085685</td>\n",
       "      <td>0.054722</td>\n",
       "      <td>0.021223</td>\n",
       "      <td>-0.030171</td>\n",
       "      <td>0.043121</td>\n",
       "      <td>-0.026045</td>\n",
       "      <td>-0.028017</td>\n",
       "      <td>-0.032502</td>\n",
       "      <td>1.000000</td>\n",
       "      <td>0.011408</td>\n",
       "      <td>-0.016598</td>\n",
       "      <td>-0.098952</td>\n",
       "      <td>0.011486</td>\n",
       "      <td>0.006105</td>\n",
       "      <td>0.059557</td>\n",
       "      <td>0.089226</td>\n",
       "    </tr>\n",
       "    <tr>\n",
       "      <th>smoking_status_smokes</th>\n",
       "      <td>0.008920</td>\n",
       "      <td>0.073075</td>\n",
       "      <td>0.044030</td>\n",
       "      <td>0.017716</td>\n",
       "      <td>0.031213</td>\n",
       "      <td>0.105132</td>\n",
       "      <td>-0.195483</td>\n",
       "      <td>-0.003663</td>\n",
       "      <td>0.084391</td>\n",
       "      <td>0.100107</td>\n",
       "      <td>0.011408</td>\n",
       "      <td>1.000000</td>\n",
       "      <td>0.029994</td>\n",
       "      <td>-0.327742</td>\n",
       "      <td>-0.028105</td>\n",
       "      <td>-0.027185</td>\n",
       "      <td>-0.281249</td>\n",
       "      <td>-0.165273</td>\n",
       "    </tr>\n",
       "    <tr>\n",
       "      <th>work_type_Govt_job</th>\n",
       "      <td>0.002660</td>\n",
       "      <td>0.129965</td>\n",
       "      <td>0.001312</td>\n",
       "      <td>0.013908</td>\n",
       "      <td>0.017661</td>\n",
       "      <td>0.133964</td>\n",
       "      <td>0.029865</td>\n",
       "      <td>-0.167849</td>\n",
       "      <td>0.077886</td>\n",
       "      <td>-0.444394</td>\n",
       "      <td>-0.016598</td>\n",
       "      <td>0.029994</td>\n",
       "      <td>1.000000</td>\n",
       "      <td>0.046854</td>\n",
       "      <td>-0.025263</td>\n",
       "      <td>-0.013056</td>\n",
       "      <td>-0.097473</td>\n",
       "      <td>-0.151417</td>\n",
       "    </tr>\n",
       "    <tr>\n",
       "      <th>smoking_status_never smoked</th>\n",
       "      <td>-0.004163</td>\n",
       "      <td>0.119207</td>\n",
       "      <td>-0.021893</td>\n",
       "      <td>0.024011</td>\n",
       "      <td>0.065018</td>\n",
       "      <td>0.102663</td>\n",
       "      <td>-0.350790</td>\n",
       "      <td>0.030605</td>\n",
       "      <td>0.107751</td>\n",
       "      <td>0.105003</td>\n",
       "      <td>-0.098952</td>\n",
       "      <td>-0.327742</td>\n",
       "      <td>0.046854</td>\n",
       "      <td>1.000000</td>\n",
       "      <td>0.036230</td>\n",
       "      <td>0.024622</td>\n",
       "      <td>-0.504695</td>\n",
       "      <td>-0.238118</td>\n",
       "    </tr>\n",
       "    <tr>\n",
       "      <th>work_type_Never_worked</th>\n",
       "      <td>-0.014885</td>\n",
       "      <td>-0.078667</td>\n",
       "      <td>-0.015715</td>\n",
       "      <td>-0.014665</td>\n",
       "      <td>-0.021612</td>\n",
       "      <td>-0.090873</td>\n",
       "      <td>-0.030081</td>\n",
       "      <td>-0.028734</td>\n",
       "      <td>-0.028336</td>\n",
       "      <td>-0.076075</td>\n",
       "      <td>0.011486</td>\n",
       "      <td>-0.028105</td>\n",
       "      <td>-0.025263</td>\n",
       "      <td>0.036230</td>\n",
       "      <td>1.000000</td>\n",
       "      <td>-0.022848</td>\n",
       "      <td>0.008796</td>\n",
       "      <td>-0.025921</td>\n",
       "    </tr>\n",
       "    <tr>\n",
       "      <th>Residence_Lbl</th>\n",
       "      <td>-0.015415</td>\n",
       "      <td>-0.014031</td>\n",
       "      <td>-0.003045</td>\n",
       "      <td>0.004783</td>\n",
       "      <td>0.007980</td>\n",
       "      <td>-0.005988</td>\n",
       "      <td>-0.008093</td>\n",
       "      <td>-0.010508</td>\n",
       "      <td>0.000359</td>\n",
       "      <td>0.018005</td>\n",
       "      <td>0.006105</td>\n",
       "      <td>-0.027185</td>\n",
       "      <td>-0.013056</td>\n",
       "      <td>0.024622</td>\n",
       "      <td>-0.022848</td>\n",
       "      <td>1.000000</td>\n",
       "      <td>0.002167</td>\n",
       "      <td>0.002388</td>\n",
       "    </tr>\n",
       "    <tr>\n",
       "      <th>smoking_status_Unknown</th>\n",
       "      <td>-0.055924</td>\n",
       "      <td>-0.378366</td>\n",
       "      <td>-0.066765</td>\n",
       "      <td>-0.095035</td>\n",
       "      <td>-0.141551</td>\n",
       "      <td>-0.332335</td>\n",
       "      <td>-0.301028</td>\n",
       "      <td>-0.106313</td>\n",
       "      <td>-0.265191</td>\n",
       "      <td>-0.209926</td>\n",
       "      <td>0.059557</td>\n",
       "      <td>-0.281249</td>\n",
       "      <td>-0.097473</td>\n",
       "      <td>-0.504695</td>\n",
       "      <td>0.008796</td>\n",
       "      <td>0.002167</td>\n",
       "      <td>1.000000</td>\n",
       "      <td>0.512721</td>\n",
       "    </tr>\n",
       "    <tr>\n",
       "      <th>work_type_children</th>\n",
       "      <td>-0.083888</td>\n",
       "      <td>-0.634320</td>\n",
       "      <td>-0.091654</td>\n",
       "      <td>-0.102195</td>\n",
       "      <td>-0.129535</td>\n",
       "      <td>-0.544658</td>\n",
       "      <td>-0.160577</td>\n",
       "      <td>-0.172219</td>\n",
       "      <td>-0.442257</td>\n",
       "      <td>-0.455965</td>\n",
       "      <td>0.089226</td>\n",
       "      <td>-0.165273</td>\n",
       "      <td>-0.151417</td>\n",
       "      <td>-0.238118</td>\n",
       "      <td>-0.025921</td>\n",
       "      <td>0.002388</td>\n",
       "      <td>0.512721</td>\n",
       "      <td>1.000000</td>\n",
       "    </tr>\n",
       "  </tbody>\n",
       "</table>\n",
       "</div>"
      ],
      "text/plain": [
       "                                  stroke       age  heart_disease  \\\n",
       "stroke                          1.000000  0.245239       0.134905   \n",
       "age                             0.245239  1.000000       0.263777   \n",
       "heart_disease                   0.134905  0.263777       1.000000   \n",
       "avg_glucose_level               0.131991  0.238323       0.161907   \n",
       "hypertension                    0.127891  0.276367       0.108292   \n",
       "Married_Lbl                     0.108299  0.679084       0.114601   \n",
       "smoking_status_formerly smoked  0.064683  0.237347       0.066938   \n",
       "work_type_Self-employed         0.062150  0.327949       0.086742   \n",
       "bmi                             0.036157  0.324261       0.036654   \n",
       "work_type_Private               0.011927  0.116678       0.000068   \n",
       "Male                            0.009081 -0.027752       0.085685   \n",
       "smoking_status_smokes           0.008920  0.073075       0.044030   \n",
       "work_type_Govt_job              0.002660  0.129965       0.001312   \n",
       "smoking_status_never smoked    -0.004163  0.119207      -0.021893   \n",
       "work_type_Never_worked         -0.014885 -0.078667      -0.015715   \n",
       "Residence_Lbl                  -0.015415 -0.014031      -0.003045   \n",
       "smoking_status_Unknown         -0.055924 -0.378366      -0.066765   \n",
       "work_type_children             -0.083888 -0.634320      -0.091654   \n",
       "\n",
       "                                avg_glucose_level  hypertension  Married_Lbl  \\\n",
       "stroke                                   0.131991      0.127891     0.108299   \n",
       "age                                      0.238323      0.276367     0.679084   \n",
       "heart_disease                            0.161907      0.108292     0.114601   \n",
       "avg_glucose_level                        1.000000      0.174540     0.155329   \n",
       "hypertension                             0.174540      1.000000     0.164187   \n",
       "Married_Lbl                              0.155329      0.164187     1.000000   \n",
       "smoking_status_formerly smoked           0.067796      0.059022     0.171960   \n",
       "work_type_Self-employed                  0.062770      0.115417     0.192637   \n",
       "bmi                                      0.166973      0.158341     0.334623   \n",
       "work_type_Private                        0.016451     -0.005358     0.154104   \n",
       "Male                                     0.054722      0.021223    -0.030171   \n",
       "smoking_status_smokes                    0.017716      0.031213     0.105132   \n",
       "work_type_Govt_job                       0.013908      0.017661     0.133964   \n",
       "smoking_status_never smoked              0.024011      0.065018     0.102663   \n",
       "work_type_Never_worked                  -0.014665     -0.021612    -0.090873   \n",
       "Residence_Lbl                            0.004783      0.007980    -0.005988   \n",
       "smoking_status_Unknown                  -0.095035     -0.141551    -0.332335   \n",
       "work_type_children                      -0.102195     -0.129535    -0.544658   \n",
       "\n",
       "                                smoking_status_formerly smoked  \\\n",
       "stroke                                                0.064683   \n",
       "age                                                   0.237347   \n",
       "heart_disease                                         0.066938   \n",
       "avg_glucose_level                                     0.067796   \n",
       "hypertension                                          0.059022   \n",
       "Married_Lbl                                           0.171960   \n",
       "smoking_status_formerly smoked                        1.000000   \n",
       "work_type_Self-employed                               0.093492   \n",
       "bmi                                                   0.103767   \n",
       "work_type_Private                                     0.025170   \n",
       "Male                                                  0.043121   \n",
       "smoking_status_smokes                                -0.195483   \n",
       "work_type_Govt_job                                    0.029865   \n",
       "smoking_status_never smoked                          -0.350790   \n",
       "work_type_Never_worked                               -0.030081   \n",
       "Residence_Lbl                                        -0.008093   \n",
       "smoking_status_Unknown                               -0.301028   \n",
       "work_type_children                                   -0.160577   \n",
       "\n",
       "                                work_type_Self-employed       bmi  \\\n",
       "stroke                                         0.062150  0.036157   \n",
       "age                                            0.327949  0.324261   \n",
       "heart_disease                                  0.086742  0.036654   \n",
       "avg_glucose_level                              0.062770  0.166973   \n",
       "hypertension                                   0.115417  0.158341   \n",
       "Married_Lbl                                    0.192637  0.334623   \n",
       "smoking_status_formerly smoked                 0.093492  0.103767   \n",
       "work_type_Self-employed                        1.000000  0.070323   \n",
       "bmi                                            0.070323  1.000000   \n",
       "work_type_Private                             -0.505448  0.203864   \n",
       "Male                                          -0.026045 -0.028017   \n",
       "smoking_status_smokes                         -0.003663  0.084391   \n",
       "work_type_Govt_job                            -0.167849  0.077886   \n",
       "smoking_status_never smoked                    0.030605  0.107751   \n",
       "work_type_Never_worked                        -0.028734 -0.028336   \n",
       "Residence_Lbl                                 -0.010508  0.000359   \n",
       "smoking_status_Unknown                        -0.106313 -0.265191   \n",
       "work_type_children                            -0.172219 -0.442257   \n",
       "\n",
       "                                work_type_Private      Male  \\\n",
       "stroke                                   0.011927  0.009081   \n",
       "age                                      0.116678 -0.027752   \n",
       "heart_disease                            0.000068  0.085685   \n",
       "avg_glucose_level                        0.016451  0.054722   \n",
       "hypertension                            -0.005358  0.021223   \n",
       "Married_Lbl                              0.154104 -0.030171   \n",
       "smoking_status_formerly smoked           0.025170  0.043121   \n",
       "work_type_Self-employed                 -0.505448 -0.026045   \n",
       "bmi                                      0.203864 -0.028017   \n",
       "work_type_Private                        1.000000 -0.032502   \n",
       "Male                                    -0.032502  1.000000   \n",
       "smoking_status_smokes                    0.100107  0.011408   \n",
       "work_type_Govt_job                      -0.444394 -0.016598   \n",
       "smoking_status_never smoked              0.105003 -0.098952   \n",
       "work_type_Never_worked                  -0.076075  0.011486   \n",
       "Residence_Lbl                            0.018005  0.006105   \n",
       "smoking_status_Unknown                  -0.209926  0.059557   \n",
       "work_type_children                      -0.455965  0.089226   \n",
       "\n",
       "                                smoking_status_smokes  work_type_Govt_job  \\\n",
       "stroke                                       0.008920            0.002660   \n",
       "age                                          0.073075            0.129965   \n",
       "heart_disease                                0.044030            0.001312   \n",
       "avg_glucose_level                            0.017716            0.013908   \n",
       "hypertension                                 0.031213            0.017661   \n",
       "Married_Lbl                                  0.105132            0.133964   \n",
       "smoking_status_formerly smoked              -0.195483            0.029865   \n",
       "work_type_Self-employed                     -0.003663           -0.167849   \n",
       "bmi                                          0.084391            0.077886   \n",
       "work_type_Private                            0.100107           -0.444394   \n",
       "Male                                         0.011408           -0.016598   \n",
       "smoking_status_smokes                        1.000000            0.029994   \n",
       "work_type_Govt_job                           0.029994            1.000000   \n",
       "smoking_status_never smoked                 -0.327742            0.046854   \n",
       "work_type_Never_worked                      -0.028105           -0.025263   \n",
       "Residence_Lbl                               -0.027185           -0.013056   \n",
       "smoking_status_Unknown                      -0.281249           -0.097473   \n",
       "work_type_children                          -0.165273           -0.151417   \n",
       "\n",
       "                                smoking_status_never smoked  \\\n",
       "stroke                                            -0.004163   \n",
       "age                                                0.119207   \n",
       "heart_disease                                     -0.021893   \n",
       "avg_glucose_level                                  0.024011   \n",
       "hypertension                                       0.065018   \n",
       "Married_Lbl                                        0.102663   \n",
       "smoking_status_formerly smoked                    -0.350790   \n",
       "work_type_Self-employed                            0.030605   \n",
       "bmi                                                0.107751   \n",
       "work_type_Private                                  0.105003   \n",
       "Male                                              -0.098952   \n",
       "smoking_status_smokes                             -0.327742   \n",
       "work_type_Govt_job                                 0.046854   \n",
       "smoking_status_never smoked                        1.000000   \n",
       "work_type_Never_worked                             0.036230   \n",
       "Residence_Lbl                                      0.024622   \n",
       "smoking_status_Unknown                            -0.504695   \n",
       "work_type_children                                -0.238118   \n",
       "\n",
       "                                work_type_Never_worked  Residence_Lbl  \\\n",
       "stroke                                       -0.014885      -0.015415   \n",
       "age                                          -0.078667      -0.014031   \n",
       "heart_disease                                -0.015715      -0.003045   \n",
       "avg_glucose_level                            -0.014665       0.004783   \n",
       "hypertension                                 -0.021612       0.007980   \n",
       "Married_Lbl                                  -0.090873      -0.005988   \n",
       "smoking_status_formerly smoked               -0.030081      -0.008093   \n",
       "work_type_Self-employed                      -0.028734      -0.010508   \n",
       "bmi                                          -0.028336       0.000359   \n",
       "work_type_Private                            -0.076075       0.018005   \n",
       "Male                                          0.011486       0.006105   \n",
       "smoking_status_smokes                        -0.028105      -0.027185   \n",
       "work_type_Govt_job                           -0.025263      -0.013056   \n",
       "smoking_status_never smoked                   0.036230       0.024622   \n",
       "work_type_Never_worked                        1.000000      -0.022848   \n",
       "Residence_Lbl                                -0.022848       1.000000   \n",
       "smoking_status_Unknown                        0.008796       0.002167   \n",
       "work_type_children                           -0.025921       0.002388   \n",
       "\n",
       "                                smoking_status_Unknown  work_type_children  \n",
       "stroke                                       -0.055924           -0.083888  \n",
       "age                                          -0.378366           -0.634320  \n",
       "heart_disease                                -0.066765           -0.091654  \n",
       "avg_glucose_level                            -0.095035           -0.102195  \n",
       "hypertension                                 -0.141551           -0.129535  \n",
       "Married_Lbl                                  -0.332335           -0.544658  \n",
       "smoking_status_formerly smoked               -0.301028           -0.160577  \n",
       "work_type_Self-employed                      -0.106313           -0.172219  \n",
       "bmi                                          -0.265191           -0.442257  \n",
       "work_type_Private                            -0.209926           -0.455965  \n",
       "Male                                          0.059557            0.089226  \n",
       "smoking_status_smokes                        -0.281249           -0.165273  \n",
       "work_type_Govt_job                           -0.097473           -0.151417  \n",
       "smoking_status_never smoked                  -0.504695           -0.238118  \n",
       "work_type_Never_worked                        0.008796           -0.025921  \n",
       "Residence_Lbl                                 0.002167            0.002388  \n",
       "smoking_status_Unknown                        1.000000            0.512721  \n",
       "work_type_children                            0.512721            1.000000  "
      ]
     },
     "execution_count": 86,
     "metadata": {},
     "output_type": "execute_result"
    }
   ],
   "source": [
    "df_strokes.corr()"
   ]
  },
  {
   "cell_type": "code",
   "execution_count": null,
   "metadata": {},
   "outputs": [],
   "source": []
  },
  {
   "cell_type": "code",
   "execution_count": null,
   "metadata": {},
   "outputs": [],
   "source": []
  },
  {
   "cell_type": "markdown",
   "metadata": {},
   "source": [
    "## Handling imbalance data "
   ]
  },
  {
   "cell_type": "markdown",
   "metadata": {},
   "source": [
    "> As we depict in the rough summary, our final output is not balanced."
   ]
  },
  {
   "cell_type": "code",
   "execution_count": 87,
   "metadata": {},
   "outputs": [
    {
     "data": {
      "image/png": "[encoded data removed]",
      "text/plain": [
       "<Figure size 432x720 with 1 Axes>"
      ]
     },
     "metadata": {
      "needs_background": "light"
     },
     "output_type": "display_data"
    }
   ],
   "source": [
    "plt.figure(figsize=[6,10])\n",
    "sns.countplot(x='stroke',data=df_strokes)\n",
    "plt.show()"
   ]
  },
  {
   "cell_type": "markdown",
   "metadata": {},
   "source": [
    "### Resampling"
   ]
  },
  {
   "cell_type": "code",
   "execution_count": 88,
   "metadata": {},
   "outputs": [],
   "source": [
    "# Imports\n",
    "from sklearn.model_selection import train_test_split\n",
    "from sklearn.preprocessing import MinMaxScaler\n",
    "## Imblearn\n",
    "from imblearn.over_sampling import SMOTE\n",
    "from imblearn.combine import SMOTETomek,SMOTEENN\n",
    "from collections import Counter\n"
   ]
  },
  {
   "cell_type": "markdown",
   "metadata": {},
   "source": [
    "> Random over-sampling with imblearn"
   ]
  },
  {
   "cell_type": "code",
   "execution_count": 89,
   "metadata": {
    "scrolled": false
   },
   "outputs": [
    {
     "data": {
      "image/png": "[encoded data removed]",
      "text/plain": [
       "<Figure size 432x720 with 1 Axes>"
      ]
     },
     "metadata": {
      "needs_background": "light"
     },
     "output_type": "display_data"
    }
   ],
   "source": [
    "features= df_strokes.drop(\"stroke\",axis=1)\n",
    "target = df_strokes[\"stroke\"]\n",
    "X = features.to_numpy()\n",
    "Y = target.to_numpy()\n",
    "fixer = MinMaxScaler()\n",
    "X=fixer.fit_transform(X)\n",
    "X_train, X_test, Y_train, Y_test= train_test_split(X,Y,stratify=Y,test_size=0.2,random_state=42)\n",
    "counter = Counter(Y_train)\n",
    "\n",
    "## set SMOTE\n",
    "smt = SMOTE(random_state=42)\n",
    "\n",
    "X_train, Y_train =smt.fit_resample(X_train,Y_train)\n",
    "counter=Counter(Y_train)\n",
    "\n",
    "## Graph (After balanced the data using SMOTE)\n",
    "plt.figure(figsize=[6,10])\n",
    "plt.bar(['Stroke','No Stroke'],pd.Series(counter))\n",
    "plt.show()\n",
    "\n"
   ]
  },
  {
   "cell_type": "code",
   "execution_count": 90,
   "metadata": {},
   "outputs": [
    {
     "data": {
      "text/plain": [
       "array([0, 0, 0, ..., 1, 1, 1], dtype=int64)"
      ]
     },
     "execution_count": 90,
     "metadata": {},
     "output_type": "execute_result"
    }
   ],
   "source": [
    "Y_train"
   ]
  },
  {
   "cell_type": "markdown",
   "metadata": {},
   "source": [
    "## Model Training"
   ]
  },
  {
   "cell_type": "code",
   "execution_count": 91,
   "metadata": {},
   "outputs": [
    {
     "data": {
      "text/plain": [
       "(7776, 17)"
      ]
     },
     "execution_count": 91,
     "metadata": {},
     "output_type": "execute_result"
    }
   ],
   "source": [
    "X_train.shape"
   ]
  },
  {
   "cell_type": "code",
   "execution_count": 92,
   "metadata": {},
   "outputs": [
    {
     "data": {
      "text/plain": [
       "(7776,)"
      ]
     },
     "execution_count": 92,
     "metadata": {},
     "output_type": "execute_result"
    }
   ],
   "source": [
    "Y_train.shape"
   ]
  },
  {
   "cell_type": "code",
   "execution_count": 93,
   "metadata": {},
   "outputs": [
    {
     "data": {
      "text/plain": [
       "(1022, 17)"
      ]
     },
     "execution_count": 93,
     "metadata": {},
     "output_type": "execute_result"
    }
   ],
   "source": [
    "X_test.shape"
   ]
  },
  {
   "cell_type": "code",
   "execution_count": 94,
   "metadata": {},
   "outputs": [
    {
     "data": {
      "text/plain": [
       "(1022,)"
      ]
     },
     "execution_count": 94,
     "metadata": {},
     "output_type": "execute_result"
    }
   ],
   "source": [
    "Y_test.shape"
   ]
  },
  {
   "cell_type": "code",
   "execution_count": 95,
   "metadata": {},
   "outputs": [],
   "source": [
    "## imports\n",
    "from sklearn.metrics import confusion_matrix, classification_report\n"
   ]
  },
  {
   "cell_type": "markdown",
   "metadata": {},
   "source": [
    "# Evaluating the Model"
   ]
  },
  {
   "cell_type": "markdown",
   "metadata": {},
   "source": [
    "## 1. Random Forest"
   ]
  },
  {
   "cell_type": "code",
   "execution_count": 96,
   "metadata": {},
   "outputs": [],
   "source": [
    "# imports\n",
    "from sklearn.ensemble import RandomForestClassifier"
   ]
  },
  {
   "cell_type": "code",
   "execution_count": 97,
   "metadata": {},
   "outputs": [
    {
     "data": {
      "text/plain": [
       "RandomForestClassifier(criterion='entropy', n_estimators=195)"
      ]
     },
     "execution_count": 97,
     "metadata": {},
     "output_type": "execute_result"
    }
   ],
   "source": [
    "random_forest_classifier = RandomForestClassifier(n_estimators=195,criterion='entropy')\n",
    "random_forest_classifier.fit(X_train,Y_train)"
   ]
  },
  {
   "cell_type": "markdown",
   "metadata": {},
   "source": [
    "### In Data Results"
   ]
  },
  {
   "cell_type": "code",
   "execution_count": 98,
   "metadata": {},
   "outputs": [],
   "source": [
    "y_predict_train = random_forest_classifier.predict(X_train)"
   ]
  },
  {
   "cell_type": "code",
   "execution_count": 99,
   "metadata": {},
   "outputs": [],
   "source": [
    "cm = confusion_matrix(Y_train,y_predict_train)"
   ]
  },
  {
   "cell_type": "code",
   "execution_count": 100,
   "metadata": {},
   "outputs": [
    {
     "data": {
      "text/plain": [
       "<AxesSubplot:>"
      ]
     },
     "execution_count": 100,
     "metadata": {},
     "output_type": "execute_result"
    },
    {
     "data": {
      "image/png": "[encoded data removed]",
      "text/plain": [
       "<Figure size 432x288 with 2 Axes>"
      ]
     },
     "metadata": {
      "needs_background": "light"
     },
     "output_type": "display_data"
    }
   ],
   "source": [
    "sns.heatmap(cm, annot=True)"
   ]
  },
  {
   "cell_type": "code",
   "execution_count": 101,
   "metadata": {},
   "outputs": [
    {
     "name": "stdout",
     "output_type": "stream",
     "text": [
      "              precision    recall  f1-score   support\n",
      "\n",
      "           0       1.00      1.00      1.00      3888\n",
      "           1       1.00      1.00      1.00      3888\n",
      "\n",
      "    accuracy                           1.00      7776\n",
      "   macro avg       1.00      1.00      1.00      7776\n",
      "weighted avg       1.00      1.00      1.00      7776\n",
      "\n"
     ]
    }
   ],
   "source": [
    "# classification report\n",
    "print(classification_report(Y_train, y_predict_train))"
   ]
  },
  {
   "cell_type": "markdown",
   "metadata": {},
   "source": [
    "### Test Sample Results"
   ]
  },
  {
   "cell_type": "code",
   "execution_count": 102,
   "metadata": {},
   "outputs": [],
   "source": [
    "# Dealing with real test values\n",
    "y_predict =random_forest_classifier.predict(X_test)"
   ]
  },
  {
   "cell_type": "code",
   "execution_count": 103,
   "metadata": {},
   "outputs": [],
   "source": [
    "cm_real = confusion_matrix(Y_test,y_predict)"
   ]
  },
  {
   "cell_type": "code",
   "execution_count": 104,
   "metadata": {},
   "outputs": [
    {
     "data": {
      "text/plain": [
       "<AxesSubplot:>"
      ]
     },
     "execution_count": 104,
     "metadata": {},
     "output_type": "execute_result"
    },
    {
     "data": {
      "image/png": "[encoded data removed]",
      "text/plain": [
       "<Figure size 432x288 with 2 Axes>"
      ]
     },
     "metadata": {
      "needs_background": "light"
     },
     "output_type": "display_data"
    }
   ],
   "source": [
    "sns.heatmap(cm_real, annot=True)"
   ]
  },
  {
   "cell_type": "code",
   "execution_count": 105,
   "metadata": {},
   "outputs": [
    {
     "name": "stdout",
     "output_type": "stream",
     "text": [
      "              precision    recall  f1-score   support\n",
      "\n",
      "           0       0.96      0.94      0.95       972\n",
      "           1       0.14      0.18      0.16        50\n",
      "\n",
      "    accuracy                           0.91      1022\n",
      "   macro avg       0.55      0.56      0.55      1022\n",
      "weighted avg       0.92      0.91      0.91      1022\n",
      "\n"
     ]
    }
   ],
   "source": [
    "print(classification_report(Y_test,y_predict))"
   ]
  },
  {
   "cell_type": "markdown",
   "metadata": {},
   "source": [
    "## 2. Logistic Regression"
   ]
  },
  {
   "cell_type": "code",
   "execution_count": 106,
   "metadata": {},
   "outputs": [],
   "source": [
    "# imports\n",
    "from sklearn.linear_model import LogisticRegression"
   ]
  },
  {
   "cell_type": "code",
   "execution_count": 107,
   "metadata": {},
   "outputs": [],
   "source": [
    "log = LogisticRegression(class_weight='balanced',max_iter=1000,random_state=42)\n",
    "log = log.fit(X_train, Y_train)"
   ]
  },
  {
   "cell_type": "markdown",
   "metadata": {},
   "source": [
    "### In Sample Results"
   ]
  },
  {
   "cell_type": "code",
   "execution_count": 108,
   "metadata": {},
   "outputs": [],
   "source": [
    "y_predict_train_log=log.predict(X_train)"
   ]
  },
  {
   "cell_type": "code",
   "execution_count": 109,
   "metadata": {},
   "outputs": [],
   "source": [
    "cm_log = confusion_matrix(Y_train,y_predict_train_log)"
   ]
  },
  {
   "cell_type": "code",
   "execution_count": 110,
   "metadata": {},
   "outputs": [
    {
     "data": {
      "text/plain": [
       "<AxesSubplot:>"
      ]
     },
     "execution_count": 110,
     "metadata": {},
     "output_type": "execute_result"
    },
    {
     "data": {
      "image/png": "[encoded data removed]",
      "text/plain": [
       "<Figure size 432x288 with 2 Axes>"
      ]
     },
     "metadata": {
      "needs_background": "light"
     },
     "output_type": "display_data"
    }
   ],
   "source": [
    "sns.heatmap(cm_log,annot=True)"
   ]
  },
  {
   "cell_type": "code",
   "execution_count": 111,
   "metadata": {},
   "outputs": [
    {
     "name": "stdout",
     "output_type": "stream",
     "text": [
      "              precision    recall  f1-score   support\n",
      "\n",
      "           0       0.83      0.74      0.78      3888\n",
      "           1       0.76      0.85      0.81      3888\n",
      "\n",
      "    accuracy                           0.79      7776\n",
      "   macro avg       0.80      0.79      0.79      7776\n",
      "weighted avg       0.80      0.79      0.79      7776\n",
      "\n"
     ]
    }
   ],
   "source": [
    "print(classification_report(Y_train,y_predict_train_log))"
   ]
  },
  {
   "cell_type": "markdown",
   "metadata": {},
   "source": [
    "### Test Sample Results"
   ]
  },
  {
   "cell_type": "code",
   "execution_count": 112,
   "metadata": {},
   "outputs": [
    {
     "data": {
      "text/plain": [
       "<AxesSubplot:>"
      ]
     },
     "execution_count": 112,
     "metadata": {},
     "output_type": "execute_result"
    },
    {
     "data": {
      "image/png": "[encoded data removed]",
      "text/plain": [
       "<Figure size 432x288 with 2 Axes>"
      ]
     },
     "metadata": {
      "needs_background": "light"
     },
     "output_type": "display_data"
    }
   ],
   "source": [
    "y_predict_log = log.predict(X_test)\n",
    "cm_log_real = confusion_matrix(Y_test,y_predict_log)\n",
    "sns.heatmap(cm_log_real,annot=True)"
   ]
  },
  {
   "cell_type": "code",
   "execution_count": 113,
   "metadata": {},
   "outputs": [
    {
     "name": "stdout",
     "output_type": "stream",
     "text": [
      "              precision    recall  f1-score   support\n",
      "\n",
      "           0       0.99      0.73      0.84       972\n",
      "           1       0.13      0.80      0.23        50\n",
      "\n",
      "    accuracy                           0.73      1022\n",
      "   macro avg       0.56      0.77      0.53      1022\n",
      "weighted avg       0.94      0.73      0.81      1022\n",
      "\n"
     ]
    }
   ],
   "source": [
    "print(classification_report(Y_test,y_predict_log))"
   ]
  },
  {
   "cell_type": "code",
   "execution_count": null,
   "metadata": {},
   "outputs": [],
   "source": []
  }
 ],
 "metadata": {
  "kernelspec": {
   "display_name": "Python 3",
   "language": "python",
   "name": "python3"
  },
  "language_info": {
   "codemirror_mode": {
    "name": "ipython",
    "version": 3
   },
   "file_extension": ".py",
   "mimetype": "text/x-python",
   "name": "python",
   "nbconvert_exporter": "python",
   "pygments_lexer": "ipython3",
   "version": "3.8.5"
  }
 },
 "nbformat": 4,
 "nbformat_minor": 4
}
